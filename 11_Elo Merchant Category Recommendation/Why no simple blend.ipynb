{
  "cells": [
    {
      "metadata": {
        "_uuid": "8f2839f25d086af736a60e9eeb907d3b93b6e0e5",
        "_cell_guid": "b1076dfc-b9ad-4769-8c92-a6c4dae69d19",
        "trusted": true
      },
      "cell_type": "code",
      "source": "!ls ../input/combining-your-model-with-a-model-without-o-0d991a/",
      "execution_count": 6,
      "outputs": [
        {
          "output_type": "stream",
          "text": "__output__.json  __results__.html  combining_submission.csv  custom.css\r\n",
          "name": "stdout"
        }
      ]
    },
    {
      "metadata": {
        "_cell_guid": "79c7e3d0-c299-4dcb-8224-4455121ee9b0",
        "_uuid": "d629ff2d2480ee46fbb7e2d37f6b5fab8052498a",
        "trusted": true
      },
      "cell_type": "code",
      "source": "import numpy as np\nimport pandas as pd",
      "execution_count": 7,
      "outputs": []
    },
    {
      "metadata": {
        "trusted": true,
        "_uuid": "ba75cec005f475edc957bb9e5fd89b74da9d5e03"
      },
      "cell_type": "code",
      "source": "df1 = pd.read_csv('../input/combining-your-model-with-a-model-without-o-0d991a/combining_submission.csv')\ndf2 = pd.read_csv('../input/simple-lightgbm-without-blending/submission.csv')\ndf3 = pd.read_csv('../input/simple-xgboost-cv-bagging/subm_3.651596_XGB_cv11_2019-02-26-21-38.csv')\ndf1.head()",
      "execution_count": 8,
      "outputs": [
        {
          "output_type": "execute_result",
          "execution_count": 8,
          "data": {
            "text/plain": "           card_id    target\n0  C_ID_0ab67a22ab -2.502326\n1  C_ID_130fd0cbdd -0.367306\n2  C_ID_b709037bc5 -0.800308\n3  C_ID_d27d835a9f -0.108871\n4  C_ID_2b5e3df5c2 -1.059855",
            "text/html": "<div>\n<style scoped>\n    .dataframe tbody tr th:only-of-type {\n        vertical-align: middle;\n    }\n\n    .dataframe tbody tr th {\n        vertical-align: top;\n    }\n\n    .dataframe thead th {\n        text-align: right;\n    }\n</style>\n<table border=\"1\" class=\"dataframe\">\n  <thead>\n    <tr style=\"text-align: right;\">\n      <th></th>\n      <th>card_id</th>\n      <th>target</th>\n    </tr>\n  </thead>\n  <tbody>\n    <tr>\n      <th>0</th>\n      <td>C_ID_0ab67a22ab</td>\n      <td>-2.502326</td>\n    </tr>\n    <tr>\n      <th>1</th>\n      <td>C_ID_130fd0cbdd</td>\n      <td>-0.367306</td>\n    </tr>\n    <tr>\n      <th>2</th>\n      <td>C_ID_b709037bc5</td>\n      <td>-0.800308</td>\n    </tr>\n    <tr>\n      <th>3</th>\n      <td>C_ID_d27d835a9f</td>\n      <td>-0.108871</td>\n    </tr>\n    <tr>\n      <th>4</th>\n      <td>C_ID_2b5e3df5c2</td>\n      <td>-1.059855</td>\n    </tr>\n  </tbody>\n</table>\n</div>"
          },
          "metadata": {}
        }
      ]
    },
    {
      "metadata": {
        "trusted": true,
        "_uuid": "014817e35f9fc7981ee33b8fd169b47ace5a18b7"
      },
      "cell_type": "code",
      "source": "df1['target'] = (df1['target'] + df2['target'] + df3['target'])/3\ndf1['target'] = df1['target'].apply(lambda x: x - np.sign(x)*np.random.uniform(-1,0))",
      "execution_count": 9,
      "outputs": []
    },
    {
      "metadata": {
        "trusted": true,
        "_uuid": "e09468ddc773a317c4aa4c5a1f1472132e8c19b6"
      },
      "cell_type": "code",
      "source": "df1.to_csv('ens.csv',index=False)",
      "execution_count": 10,
      "outputs": []
    },
    {
      "metadata": {
        "trusted": true,
        "_uuid": "9fbe93991fae5fc466c538eb64da8cce6c466a31"
      },
      "cell_type": "code",
      "source": "df1.head()",
      "execution_count": 11,
      "outputs": [
        {
          "output_type": "execute_result",
          "execution_count": 11,
          "data": {
            "text/plain": "           card_id    target\n0  C_ID_0ab67a22ab -3.289215\n1  C_ID_130fd0cbdd -0.455608\n2  C_ID_b709037bc5 -1.177868\n3  C_ID_d27d835a9f -0.230985\n4  C_ID_2b5e3df5c2 -1.023058",
            "text/html": "<div>\n<style scoped>\n    .dataframe tbody tr th:only-of-type {\n        vertical-align: middle;\n    }\n\n    .dataframe tbody tr th {\n        vertical-align: top;\n    }\n\n    .dataframe thead th {\n        text-align: right;\n    }\n</style>\n<table border=\"1\" class=\"dataframe\">\n  <thead>\n    <tr style=\"text-align: right;\">\n      <th></th>\n      <th>card_id</th>\n      <th>target</th>\n    </tr>\n  </thead>\n  <tbody>\n    <tr>\n      <th>0</th>\n      <td>C_ID_0ab67a22ab</td>\n      <td>-3.289215</td>\n    </tr>\n    <tr>\n      <th>1</th>\n      <td>C_ID_130fd0cbdd</td>\n      <td>-0.455608</td>\n    </tr>\n    <tr>\n      <th>2</th>\n      <td>C_ID_b709037bc5</td>\n      <td>-1.177868</td>\n    </tr>\n    <tr>\n      <th>3</th>\n      <td>C_ID_d27d835a9f</td>\n      <td>-0.230985</td>\n    </tr>\n    <tr>\n      <th>4</th>\n      <td>C_ID_2b5e3df5c2</td>\n      <td>-1.023058</td>\n    </tr>\n  </tbody>\n</table>\n</div>"
          },
          "metadata": {}
        }
      ]
    },
    {
      "metadata": {
        "trusted": true,
        "_uuid": "95dc03cb7898d40886acb8bd467b778bb0322eef"
      },
      "cell_type": "code",
      "source": "",
      "execution_count": null,
      "outputs": []
    }
  ],
  "metadata": {
    "kernelspec": {
      "display_name": "Python 3",
      "language": "python",
      "name": "python3"
    },
    "language_info": {
      "name": "python",
      "version": "3.6.6",
      "mimetype": "text/x-python",
      "codemirror_mode": {
        "name": "ipython",
        "version": 3
      },
      "pygments_lexer": "ipython3",
      "nbconvert_exporter": "python",
      "file_extension": ".py"
    }
  },
  "nbformat": 4,
  "nbformat_minor": 1
}