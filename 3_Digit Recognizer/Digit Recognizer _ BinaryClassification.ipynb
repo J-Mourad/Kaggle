{
 "cells": [
  {
   "cell_type": "code",
   "execution_count": 46,
   "metadata": {
    "_cell_guid": "79c7e3d0-c299-4dcb-8224-4455121ee9b0",
    "_uuid": "d629ff2d2480ee46fbb7e2d37f6b5fab8052498a"
   },
   "outputs": [],
   "source": [
    "import pandas as pd\n",
    "import numpy as np\n",
    "import matplotlib.pyplot as plt\n",
    "\n",
    "from keras.models import Model\n",
    "from keras.layers import Conv2D, Input, Dense, Flatten\n",
    "from keras.optimizers import SGD\n",
    "from keras.wrappers.scikit_learn import KerasClassifier\n",
    "\n",
    "from sklearn.model_selection import cross_val_score, train_test_split, GridSearchCV, StratifiedKFold\n",
    "from sklearn.metrics import accuracy_score, classification_report\n",
    "from sklearn.preprocessing import StandardScaler\n",
    "from sklearn.pipeline import Pipeline\n",
    "\n",
    "# Any results you write to the current directory are saved as output."
   ]
  },
  {
   "cell_type": "markdown",
   "metadata": {
    "_uuid": "82ff3eb5b35f3049f8b3c8a18b1efcd341b7a12b"
   },
   "source": [
    "## Reading and processing Data"
   ]
  },
  {
   "cell_type": "code",
   "execution_count": 47,
   "metadata": {
    "_uuid": "8f650a0bbc6d1b7ec25fa5b50a7a5d998bee91ba"
   },
   "outputs": [
    {
     "data": {
      "image/png": "[encoded data removed]",
      "text/plain": [
       "<Figure size 432x288 with 1 Axes>"
      ]
     },
     "metadata": {
      "needs_background": "light"
     },
     "output_type": "display_data"
    }
   ],
   "source": [
    "data = pd.read_csv(\"../input/train.csv\")\n",
    "\n",
    "## Transform problem to binary classificaton [<=5 et >5]\n",
    "data['label'] = data['label'].apply(lambda x: 0 if x<=5 else 1)\n",
    "    \n",
    "X = data.drop('label', axis = 1).values\n",
    "y = data['label']\n",
    "\n",
    "X_train, X_test, y_train, y_test = train_test_split(X, y, test_size=0.2)\n",
    "\n",
    "# Every image is stored as a row in the dataframe\n",
    "train_images = X_train.reshape((-1, 28, 28, 1))\n",
    "test_images = X_test.reshape((-1, 28, 28, 1))\n",
    "\n",
    "# Showing the 10th image in the training data\n",
    "plt.imshow(train_images[10,:,:,0]);"
   ]
  },
  {
   "cell_type": "code",
   "execution_count": 48,
   "metadata": {
    "_uuid": "ac3f1b1bb8c69b1ccb41e355f516b80fca32b4c2"
   },
   "outputs": [
    {
     "name": "stdout",
     "output_type": "stream",
     "text": [
      "_________________________________________________________________\n",
      "Layer (type)                 Output Shape              Param #   \n",
      "=================================================================\n",
      "InputLayer (InputLayer)      (None, 28, 28, 1)         0         \n",
      "_________________________________________________________________\n",
      "ConvolutionalLayer1 (Conv2D) (None, 26, 26, 10)        100       \n",
      "_________________________________________________________________\n",
      "ConvolutionalLayer2 (Conv2D) (None, 24, 24, 20)        1820      \n",
      "_________________________________________________________________\n",
      "flatten_118 (Flatten)        (None, 11520)             0         \n",
      "_________________________________________________________________\n",
      "OutputLayer (Dense)          (None, 1)                 11521     \n",
      "=================================================================\n",
      "Total params: 13,441\n",
      "Trainable params: 13,441\n",
      "Non-trainable params: 0\n",
      "_________________________________________________________________\n"
     ]
    }
   ],
   "source": [
    "def build_model(NbFilters = 10):\n",
    "    inputLayer = Input((28,28,1), name=\"InputLayer\")\n",
    "    conv1 = Conv2D(filters=NbFilters, kernel_size=(3,3),\n",
    "                   strides=(1,1), padding=\"valid\", name=\"ConvolutionalLayer1\")(inputLayer)\n",
    "    conv2 = Conv2D(filters=2*NbFilters, kernel_size=(3,3),\n",
    "                   strides=(1,1), name=\"ConvolutionalLayer2\")(conv1)\n",
    "    conv2 = Flatten()(conv2)\n",
    "    output = Dense(1, activation='sigmoid', name=\"OutputLayer\")(conv2)\n",
    "    \n",
    "    model = Model(inputLayer, output)\n",
    "    model.compile(optimizer='adam', loss='binary_crossentropy', metrics=['accuracy'])\n",
    "    return model\n",
    "build_model().summary()"
   ]
  },
  {
   "cell_type": "markdown",
   "metadata": {
    "_uuid": "1ef9faacd1337e398e938ce816bc2d91ecc4c7c6"
   },
   "source": [
    "## Make predictions"
   ]
  },
  {
   "cell_type": "code",
   "execution_count": 49,
   "metadata": {
    "_uuid": "6b263537f38534554453e2a28e732e8ba3d9f4df"
   },
   "outputs": [
    {
     "name": "stdout",
     "output_type": "stream",
     "text": [
      "Epoch 1/5\n",
      "33600/33600 [==============================] - 10s 293us/step - loss: 3.3527 - acc: 0.7872\n",
      "Epoch 2/5\n",
      "33600/33600 [==============================] - 4s 105us/step - loss: 2.8703 - acc: 0.8189\n",
      "Epoch 3/5\n",
      "33600/33600 [==============================] - 4s 105us/step - loss: 2.7010 - acc: 0.8306\n",
      "Epoch 4/5\n",
      "33600/33600 [==============================] - 4s 105us/step - loss: 2.7838 - acc: 0.8259\n",
      "Epoch 5/5\n",
      "33600/33600 [==============================] - 3s 104us/step - loss: 2.8445 - acc: 0.8221\n",
      "Accuracy = 0.8325\n",
      "             precision    recall  f1-score   support\n",
      "\n",
      "          0       0.84      0.90      0.87      5129\n",
      "          1       0.82      0.72      0.77      3271\n",
      "\n",
      "avg / total       0.83      0.83      0.83      8400\n",
      "\n"
     ]
    }
   ],
   "source": [
    "m = build_model()\n",
    "m.fit(train_images, y_train, batch_size=96, epochs=5, verbose = 1)\n",
    "\n",
    "y_pred = m.predict(test_images).reshape((1,-1))[0].astype(int)\n",
    "print(\"Accuracy = {}\".format(accuracy_score(y_test, y_pred)))\n",
    "print(classification_report(y_test, y_pred))"
   ]
  },
  {
   "cell_type": "markdown",
   "metadata": {
    "_uuid": "be8f03c1a5ba07451477a830a2720e94f6c36f30"
   },
   "source": [
    "## Evaluate model with cross validation"
   ]
  },
  {
   "cell_type": "code",
   "execution_count": 50,
   "metadata": {
    "_uuid": "ca971deb5666547572cc2c9e2bd1d17f7fe4a179",
    "scrolled": true
   },
   "outputs": [
    {
     "name": "stdout",
     "output_type": "stream",
     "text": [
      "Epoch 1/10\n",
      "29399/29399 [==============================] - 10s 355us/step - loss: 2.8374 - acc: 0.8149\n",
      "Epoch 2/10\n",
      "29399/29399 [==============================] - 4s 139us/step - loss: 2.7820 - acc: 0.8235\n",
      "Epoch 3/10\n",
      "29399/29399 [==============================] - 4s 141us/step - loss: 2.8014 - acc: 0.8234\n",
      "Epoch 4/10\n",
      "29399/29399 [==============================] - 4s 141us/step - loss: 2.5667 - acc: 0.8389\n",
      "Epoch 5/10\n",
      "29399/29399 [==============================] - 4s 140us/step - loss: 2.8517 - acc: 0.8212\n",
      "Epoch 6/10\n",
      "29399/29399 [==============================] - 4s 142us/step - loss: 2.8120 - acc: 0.8240\n",
      "Epoch 7/10\n",
      "29399/29399 [==============================] - 4s 140us/step - loss: 2.8258 - acc: 0.8229\n",
      "Epoch 8/10\n",
      "29399/29399 [==============================] - 4s 141us/step - loss: 2.8799 - acc: 0.8201\n",
      "Epoch 9/10\n",
      "29399/29399 [==============================] - 4s 141us/step - loss: 3.0043 - acc: 0.8126\n",
      "Epoch 10/10\n",
      "29399/29399 [==============================] - 4s 140us/step - loss: 2.9281 - acc: 0.8172\n",
      "4201/4201 [==============================] - 3s 694us/step\n",
      "Epoch 1/10\n",
      "29399/29399 [==============================] - 10s 354us/step - loss: 3.1284 - acc: 0.7984\n",
      "Epoch 2/10\n",
      "29399/29399 [==============================] - 4s 141us/step - loss: 3.0113 - acc: 0.8102\n",
      "Epoch 3/10\n",
      "29399/29399 [==============================] - 4s 140us/step - loss: 2.8215 - acc: 0.8227\n",
      "Epoch 4/10\n",
      "29399/29399 [==============================] - 4s 139us/step - loss: 2.8570 - acc: 0.8208\n",
      "Epoch 5/10\n",
      "29399/29399 [==============================] - 4s 142us/step - loss: 2.9708 - acc: 0.8135\n",
      "Epoch 6/10\n",
      "29399/29399 [==============================] - 4s 141us/step - loss: 2.9839 - acc: 0.8130\n",
      "Epoch 7/10\n",
      "29399/29399 [==============================] - 4s 141us/step - loss: 2.8597 - acc: 0.8214\n",
      "Epoch 8/10\n",
      "29399/29399 [==============================] - 4s 142us/step - loss: 2.6626 - acc: 0.8335\n",
      "Epoch 9/10\n",
      "29399/29399 [==============================] - 4s 141us/step - loss: 2.8875 - acc: 0.8195\n",
      "Epoch 10/10\n",
      "29399/29399 [==============================] - 4s 143us/step - loss: 2.8926 - acc: 0.8192\n",
      "4201/4201 [==============================] - 3s 727us/step\n",
      "Epoch 1/10\n",
      "29400/29400 [==============================] - 11s 365us/step - loss: 3.6497 - acc: 0.7688\n",
      "Epoch 2/10\n",
      "29400/29400 [==============================] - 4s 142us/step - loss: 2.9256 - acc: 0.8162\n",
      "Epoch 3/10\n",
      "29400/29400 [==============================] - 4s 142us/step - loss: 2.9841 - acc: 0.8126\n",
      "Epoch 4/10\n",
      "29400/29400 [==============================] - 4s 141us/step - loss: 2.9749 - acc: 0.8138\n",
      "Epoch 5/10\n",
      "29400/29400 [==============================] - 4s 142us/step - loss: 2.8955 - acc: 0.8193\n",
      "Epoch 6/10\n",
      "29400/29400 [==============================] - 4s 141us/step - loss: 2.9325 - acc: 0.8165\n",
      "Epoch 7/10\n",
      "29400/29400 [==============================] - 4s 142us/step - loss: 2.8166 - acc: 0.8238\n",
      "Epoch 8/10\n",
      "29400/29400 [==============================] - 4s 142us/step - loss: 2.9663 - acc: 0.8148\n",
      "Epoch 9/10\n",
      "29400/29400 [==============================] - 4s 142us/step - loss: 2.6534 - acc: 0.8343\n",
      "Epoch 10/10\n",
      "29400/29400 [==============================] - 4s 142us/step - loss: 2.9808 - acc: 0.8136\n",
      "4200/4200 [==============================] - 3s 740us/step\n",
      "Epoch 1/10\n",
      "29400/29400 [==============================] - 11s 368us/step - loss: 3.0403 - acc: 0.8037\n",
      "Epoch 2/10\n",
      "29400/29400 [==============================] - 4s 142us/step - loss: 2.8148 - acc: 0.8209\n",
      "Epoch 3/10\n",
      "29400/29400 [==============================] - 4s 142us/step - loss: 2.7794 - acc: 0.8248\n",
      "Epoch 4/10\n",
      "29400/29400 [==============================] - 4s 142us/step - loss: 2.7404 - acc: 0.8282\n",
      "Epoch 5/10\n",
      "29400/29400 [==============================] - 4s 142us/step - loss: 2.7533 - acc: 0.8273\n",
      "Epoch 6/10\n",
      "29400/29400 [==============================] - 4s 142us/step - loss: 2.9670 - acc: 0.8141\n",
      "Epoch 7/10\n",
      "29400/29400 [==============================] - 4s 141us/step - loss: 2.6932 - acc: 0.8317\n",
      "Epoch 8/10\n",
      "29400/29400 [==============================] - 4s 141us/step - loss: 2.7452 - acc: 0.8282\n",
      "Epoch 9/10\n",
      "29400/29400 [==============================] - 4s 142us/step - loss: 2.8297 - acc: 0.8233\n",
      "Epoch 10/10\n",
      "29400/29400 [==============================] - 4s 142us/step - loss: 3.1504 - acc: 0.8036\n",
      "4200/4200 [==============================] - 3s 765us/step\n",
      "Epoch 1/10\n",
      "29400/29400 [==============================] - 11s 370us/step - loss: 3.8996 - acc: 0.7530\n",
      "Epoch 2/10\n",
      "29400/29400 [==============================] - 4s 143us/step - loss: 2.8595 - acc: 0.8196\n",
      "Epoch 3/10\n",
      "29400/29400 [==============================] - 4s 143us/step - loss: 2.8492 - acc: 0.8211\n",
      "Epoch 4/10\n",
      "29400/29400 [==============================] - 4s 143us/step - loss: 2.7137 - acc: 0.8298\n",
      "Epoch 5/10\n",
      "29400/29400 [==============================] - 4s 141us/step - loss: 2.7153 - acc: 0.8297\n",
      "Epoch 6/10\n",
      "29400/29400 [==============================] - 4s 143us/step - loss: 2.8474 - acc: 0.8222\n",
      "Epoch 7/10\n",
      "29400/29400 [==============================] - 4s 142us/step - loss: 2.8781 - acc: 0.8200\n",
      "Epoch 8/10\n",
      "29400/29400 [==============================] - 4s 141us/step - loss: 3.0582 - acc: 0.8088\n",
      "Epoch 9/10\n",
      "29400/29400 [==============================] - 4s 140us/step - loss: 3.1463 - acc: 0.8032\n",
      "Epoch 10/10\n",
      "29400/29400 [==============================] - 4s 141us/step - loss: 3.3426 - acc: 0.7912\n",
      "4200/4200 [==============================] - 3s 761us/step\n",
      "Epoch 1/10\n",
      "29400/29400 [==============================] - 11s 371us/step - loss: 3.8794 - acc: 0.7534\n",
      "Epoch 2/10\n",
      "29400/29400 [==============================] - 4s 143us/step - loss: 2.8038 - acc: 0.8231\n",
      "Epoch 3/10\n",
      "29400/29400 [==============================] - 4s 143us/step - loss: 2.7874 - acc: 0.8248\n",
      "Epoch 4/10\n",
      "29400/29400 [==============================] - 4s 143us/step - loss: 2.8805 - acc: 0.8193\n",
      "Epoch 5/10\n",
      "29400/29400 [==============================] - 4s 143us/step - loss: 2.8705 - acc: 0.8202\n",
      "Epoch 6/10\n",
      "29400/29400 [==============================] - 4s 142us/step - loss: 3.0333 - acc: 0.8101\n",
      "Epoch 7/10\n",
      "29400/29400 [==============================] - 4s 143us/step - loss: 3.0804 - acc: 0.8072\n",
      "Epoch 8/10\n",
      "29400/29400 [==============================] - 4s 143us/step - loss: 2.9001 - acc: 0.8185\n",
      "Epoch 9/10\n",
      "29400/29400 [==============================] - 4s 142us/step - loss: 2.6814 - acc: 0.8324\n",
      "Epoch 10/10\n",
      "29400/29400 [==============================] - 4s 140us/step - loss: 2.6874 - acc: 0.8323\n",
      "4200/4200 [==============================] - 3s 753us/step\n",
      "Epoch 1/10\n",
      "29401/29401 [==============================] - 11s 371us/step - loss: 3.1503 - acc: 0.7968\n",
      "Epoch 2/10\n",
      "29401/29401 [==============================] - 4s 143us/step - loss: 2.7491 - acc: 0.8260\n",
      "Epoch 3/10\n",
      "29401/29401 [==============================] - 4s 143us/step - loss: 2.8175 - acc: 0.8227\n",
      "Epoch 4/10\n",
      "29401/29401 [==============================] - 4s 143us/step - loss: 2.8535 - acc: 0.8206\n",
      "Epoch 5/10\n",
      "29401/29401 [==============================] - 4s 144us/step - loss: 2.7857 - acc: 0.8256\n",
      "Epoch 6/10\n",
      "29401/29401 [==============================] - 4s 143us/step - loss: 2.7596 - acc: 0.8272\n",
      "Epoch 7/10\n",
      "29401/29401 [==============================] - 4s 143us/step - loss: 2.8831 - acc: 0.8195\n",
      "Epoch 8/10\n",
      "29401/29401 [==============================] - 4s 143us/step - loss: 2.7932 - acc: 0.8251\n",
      "Epoch 9/10\n",
      "29401/29401 [==============================] - 4s 142us/step - loss: 2.8118 - acc: 0.8243\n",
      "Epoch 10/10\n",
      "29401/29401 [==============================] - 4s 146us/step - loss: 2.7270 - acc: 0.8295\n",
      "4199/4199 [==============================] - 3s 756us/step\n",
      "Epoch 1/10\n",
      "29401/29401 [==============================] - 11s 368us/step - loss: 6.4884 - acc: 0.5973\n",
      "Epoch 2/10\n",
      "29401/29401 [==============================] - 4s 144us/step - loss: 6.4848 - acc: 0.5977\n",
      "Epoch 3/10\n",
      "29401/29401 [==============================] - 4s 143us/step - loss: 6.4848 - acc: 0.5977\n",
      "Epoch 4/10\n",
      "29401/29401 [==============================] - 4s 144us/step - loss: 6.4848 - acc: 0.5977\n",
      "Epoch 5/10\n",
      "29401/29401 [==============================] - 4s 144us/step - loss: 6.4848 - acc: 0.5977\n",
      "Epoch 6/10\n",
      "29401/29401 [==============================] - 4s 144us/step - loss: 6.4848 - acc: 0.5977\n",
      "Epoch 7/10\n",
      "29401/29401 [==============================] - 4s 145us/step - loss: 6.4848 - acc: 0.5977\n",
      "Epoch 8/10\n",
      "29401/29401 [==============================] - 4s 144us/step - loss: 6.4848 - acc: 0.5977\n",
      "Epoch 9/10\n",
      "29401/29401 [==============================] - 4s 144us/step - loss: 6.4848 - acc: 0.5977\n",
      "Epoch 10/10\n",
      "29401/29401 [==============================] - 4s 143us/step - loss: 6.4848 - acc: 0.5977\n",
      "4199/4199 [==============================] - 3s 775us/step\n",
      "Results: 79.07 (7.52%)\n"
     ]
    }
   ],
   "source": [
    "estimator = KerasClassifier(build_fn=build_model, batch_size=64, epochs=10, verbose = 1)\n",
    "Kfold = StratifiedKFold(n_splits=8, shuffle=True, random_state=100)\n",
    "results = cross_val_score(estimator, train_images, y_train, cv=Kfold, n_jobs=1)\n",
    "print(\"Results: {} ({}%)\".format(round(results.mean()*100,2), round(results.std()*100, 2)))"
   ]
  },
  {
   "cell_type": "markdown",
   "metadata": {
    "_uuid": "65937d7eb32470af83fa75a749d2fec8cbbf4216"
   },
   "source": [
    "## GirdSearch with CrossValidation"
   ]
  },
  {
   "cell_type": "code",
   "execution_count": 51,
   "metadata": {
    "_uuid": "1aac5849a2321c285cf003ba2f1b67bbae8d4526",
    "scrolled": true
   },
   "outputs": [
    {
     "name": "stdout",
     "output_type": "stream",
     "text": [
      "======================================= \n",
      "# Tuning hyper-parameters for accuracy:\n",
      " =======================================\n",
      "\n",
      "# Best parameters set found on development set:  {'batch_size': 96, 'epochs': 10}\n",
      "# Grid scores on development set:\n",
      "\t\t\t\t 0.695 (+/-0.235) for {'batch_size': 96, 'epochs': 5}\n",
      "\t\t\t\t 0.834 (+/-0.014) for {'batch_size': 96, 'epochs': 10}\n",
      "\n",
      "# Detailed classification report: \n",
      "Accuracy = 0.8396428571428571\n",
      "             precision    recall  f1-score   support\n",
      "\n",
      "          0       0.82      0.94      0.88      5129\n",
      "          1       0.88      0.68      0.77      3271\n",
      "\n",
      "avg / total       0.84      0.84      0.83      8400\n",
      " \n",
      "\n",
      "======================================= \n",
      "# Tuning hyper-parameters for precision:\n",
      " =======================================\n"
     ]
    },
    {
     "ename": "KeyboardInterrupt",
     "evalue": "",
     "output_type": "error",
     "traceback": [
      "\u001b[0;31m---------------------------------------------------------------------------\u001b[0m",
      "\u001b[0;31mKeyboardInterrupt\u001b[0m                         Traceback (most recent call last)",
      "\u001b[0;32m<ipython-input-51-27793e1fbf35>\u001b[0m in \u001b[0;36m<module>\u001b[0;34m\u001b[0m\n\u001b[1;32m      9\u001b[0m   \u001b[0;31m# clf = GridSearchCV(estimator, tuned_parameters, cv=5, scoring='%s_macro' % score)\u001b[0m\u001b[0;34m\u001b[0m\u001b[0;34m\u001b[0m\u001b[0m\n\u001b[1;32m     10\u001b[0m     \u001b[0mclf\u001b[0m \u001b[0;34m=\u001b[0m \u001b[0mGridSearchCV\u001b[0m\u001b[0;34m(\u001b[0m\u001b[0mestimator\u001b[0m\u001b[0;34m,\u001b[0m \u001b[0mtuned_parameters\u001b[0m\u001b[0;34m,\u001b[0m \u001b[0mcv\u001b[0m\u001b[0;34m=\u001b[0m\u001b[0;36m5\u001b[0m\u001b[0;34m,\u001b[0m \u001b[0mscoring\u001b[0m\u001b[0;34m=\u001b[0m\u001b[0mscore\u001b[0m\u001b[0;34m)\u001b[0m\u001b[0;34m\u001b[0m\u001b[0m\n\u001b[0;32m---> 11\u001b[0;31m     \u001b[0mclf\u001b[0m\u001b[0;34m.\u001b[0m\u001b[0mfit\u001b[0m\u001b[0;34m(\u001b[0m\u001b[0mtrain_images\u001b[0m\u001b[0;34m,\u001b[0m \u001b[0my_train\u001b[0m\u001b[0;34m)\u001b[0m\u001b[0;34m\u001b[0m\u001b[0m\n\u001b[0m\u001b[1;32m     12\u001b[0m \u001b[0;34m\u001b[0m\u001b[0m\n\u001b[1;32m     13\u001b[0m     \u001b[0mprint\u001b[0m\u001b[0;34m(\u001b[0m\u001b[0;34m\"\\n# Best parameters set found on development set: \"\u001b[0m\u001b[0;34m,\u001b[0m \u001b[0mclf\u001b[0m\u001b[0;34m.\u001b[0m\u001b[0mbest_params_\u001b[0m\u001b[0;34m)\u001b[0m\u001b[0;34m\u001b[0m\u001b[0m\n",
      "\u001b[0;32m/opt/conda/lib/python3.6/site-packages/sklearn/model_selection/_search.py\u001b[0m in \u001b[0;36mfit\u001b[0;34m(self, X, y, groups, **fit_params)\u001b[0m\n\u001b[1;32m    637\u001b[0m                                   error_score=self.error_score)\n\u001b[1;32m    638\u001b[0m           for parameters, (train, test) in product(candidate_params,\n\u001b[0;32m--> 639\u001b[0;31m                                                    cv.split(X, y, groups)))\n\u001b[0m\u001b[1;32m    640\u001b[0m \u001b[0;34m\u001b[0m\u001b[0m\n\u001b[1;32m    641\u001b[0m         \u001b[0;31m# if one choose to see train score, \"out\" will contain train score info\u001b[0m\u001b[0;34m\u001b[0m\u001b[0;34m\u001b[0m\u001b[0m\n",
      "\u001b[0;32m/opt/conda/lib/python3.6/site-packages/sklearn/externals/joblib/parallel.py\u001b[0m in \u001b[0;36m__call__\u001b[0;34m(self, iterable)\u001b[0m\n\u001b[1;32m    777\u001b[0m             \u001b[0;31m# was dispatched. In particular this covers the edge\u001b[0m\u001b[0;34m\u001b[0m\u001b[0;34m\u001b[0m\u001b[0m\n\u001b[1;32m    778\u001b[0m             \u001b[0;31m# case of Parallel used with an exhausted iterator.\u001b[0m\u001b[0;34m\u001b[0m\u001b[0;34m\u001b[0m\u001b[0m\n\u001b[0;32m--> 779\u001b[0;31m             \u001b[0;32mwhile\u001b[0m \u001b[0mself\u001b[0m\u001b[0;34m.\u001b[0m\u001b[0mdispatch_one_batch\u001b[0m\u001b[0;34m(\u001b[0m\u001b[0miterator\u001b[0m\u001b[0;34m)\u001b[0m\u001b[0;34m:\u001b[0m\u001b[0;34m\u001b[0m\u001b[0m\n\u001b[0m\u001b[1;32m    780\u001b[0m                 \u001b[0mself\u001b[0m\u001b[0;34m.\u001b[0m\u001b[0m_iterating\u001b[0m \u001b[0;34m=\u001b[0m \u001b[0;32mTrue\u001b[0m\u001b[0;34m\u001b[0m\u001b[0m\n\u001b[1;32m    781\u001b[0m             \u001b[0;32melse\u001b[0m\u001b[0;34m:\u001b[0m\u001b[0;34m\u001b[0m\u001b[0m\n",
      "\u001b[0;32m/opt/conda/lib/python3.6/site-packages/sklearn/externals/joblib/parallel.py\u001b[0m in \u001b[0;36mdispatch_one_batch\u001b[0;34m(self, iterator)\u001b[0m\n\u001b[1;32m    623\u001b[0m                 \u001b[0;32mreturn\u001b[0m \u001b[0;32mFalse\u001b[0m\u001b[0;34m\u001b[0m\u001b[0m\n\u001b[1;32m    624\u001b[0m             \u001b[0;32melse\u001b[0m\u001b[0;34m:\u001b[0m\u001b[0;34m\u001b[0m\u001b[0m\n\u001b[0;32m--> 625\u001b[0;31m                 \u001b[0mself\u001b[0m\u001b[0;34m.\u001b[0m\u001b[0m_dispatch\u001b[0m\u001b[0;34m(\u001b[0m\u001b[0mtasks\u001b[0m\u001b[0;34m)\u001b[0m\u001b[0;34m\u001b[0m\u001b[0m\n\u001b[0m\u001b[1;32m    626\u001b[0m                 \u001b[0;32mreturn\u001b[0m \u001b[0;32mTrue\u001b[0m\u001b[0;34m\u001b[0m\u001b[0m\n\u001b[1;32m    627\u001b[0m \u001b[0;34m\u001b[0m\u001b[0m\n",
      "\u001b[0;32m/opt/conda/lib/python3.6/site-packages/sklearn/externals/joblib/parallel.py\u001b[0m in \u001b[0;36m_dispatch\u001b[0;34m(self, batch)\u001b[0m\n\u001b[1;32m    586\u001b[0m         \u001b[0mdispatch_timestamp\u001b[0m \u001b[0;34m=\u001b[0m \u001b[0mtime\u001b[0m\u001b[0;34m.\u001b[0m\u001b[0mtime\u001b[0m\u001b[0;34m(\u001b[0m\u001b[0;34m)\u001b[0m\u001b[0;34m\u001b[0m\u001b[0m\n\u001b[1;32m    587\u001b[0m         \u001b[0mcb\u001b[0m \u001b[0;34m=\u001b[0m \u001b[0mBatchCompletionCallBack\u001b[0m\u001b[0;34m(\u001b[0m\u001b[0mdispatch_timestamp\u001b[0m\u001b[0;34m,\u001b[0m \u001b[0mlen\u001b[0m\u001b[0;34m(\u001b[0m\u001b[0mbatch\u001b[0m\u001b[0;34m)\u001b[0m\u001b[0;34m,\u001b[0m \u001b[0mself\u001b[0m\u001b[0;34m)\u001b[0m\u001b[0;34m\u001b[0m\u001b[0m\n\u001b[0;32m--> 588\u001b[0;31m         \u001b[0mjob\u001b[0m \u001b[0;34m=\u001b[0m \u001b[0mself\u001b[0m\u001b[0;34m.\u001b[0m\u001b[0m_backend\u001b[0m\u001b[0;34m.\u001b[0m\u001b[0mapply_async\u001b[0m\u001b[0;34m(\u001b[0m\u001b[0mbatch\u001b[0m\u001b[0;34m,\u001b[0m \u001b[0mcallback\u001b[0m\u001b[0;34m=\u001b[0m\u001b[0mcb\u001b[0m\u001b[0;34m)\u001b[0m\u001b[0;34m\u001b[0m\u001b[0m\n\u001b[0m\u001b[1;32m    589\u001b[0m         \u001b[0mself\u001b[0m\u001b[0;34m.\u001b[0m\u001b[0m_jobs\u001b[0m\u001b[0;34m.\u001b[0m\u001b[0mappend\u001b[0m\u001b[0;34m(\u001b[0m\u001b[0mjob\u001b[0m\u001b[0;34m)\u001b[0m\u001b[0;34m\u001b[0m\u001b[0m\n\u001b[1;32m    590\u001b[0m \u001b[0;34m\u001b[0m\u001b[0m\n",
      "\u001b[0;32m/opt/conda/lib/python3.6/site-packages/sklearn/externals/joblib/_parallel_backends.py\u001b[0m in \u001b[0;36mapply_async\u001b[0;34m(self, func, callback)\u001b[0m\n\u001b[1;32m    109\u001b[0m     \u001b[0;32mdef\u001b[0m \u001b[0mapply_async\u001b[0m\u001b[0;34m(\u001b[0m\u001b[0mself\u001b[0m\u001b[0;34m,\u001b[0m \u001b[0mfunc\u001b[0m\u001b[0;34m,\u001b[0m \u001b[0mcallback\u001b[0m\u001b[0;34m=\u001b[0m\u001b[0;32mNone\u001b[0m\u001b[0;34m)\u001b[0m\u001b[0;34m:\u001b[0m\u001b[0;34m\u001b[0m\u001b[0m\n\u001b[1;32m    110\u001b[0m         \u001b[0;34m\"\"\"Schedule a func to be run\"\"\"\u001b[0m\u001b[0;34m\u001b[0m\u001b[0m\n\u001b[0;32m--> 111\u001b[0;31m         \u001b[0mresult\u001b[0m \u001b[0;34m=\u001b[0m \u001b[0mImmediateResult\u001b[0m\u001b[0;34m(\u001b[0m\u001b[0mfunc\u001b[0m\u001b[0;34m)\u001b[0m\u001b[0;34m\u001b[0m\u001b[0m\n\u001b[0m\u001b[1;32m    112\u001b[0m         \u001b[0;32mif\u001b[0m \u001b[0mcallback\u001b[0m\u001b[0;34m:\u001b[0m\u001b[0;34m\u001b[0m\u001b[0m\n\u001b[1;32m    113\u001b[0m             \u001b[0mcallback\u001b[0m\u001b[0;34m(\u001b[0m\u001b[0mresult\u001b[0m\u001b[0;34m)\u001b[0m\u001b[0;34m\u001b[0m\u001b[0m\n",
      "\u001b[0;32m/opt/conda/lib/python3.6/site-packages/sklearn/externals/joblib/_parallel_backends.py\u001b[0m in \u001b[0;36m__init__\u001b[0;34m(self, batch)\u001b[0m\n\u001b[1;32m    330\u001b[0m         \u001b[0;31m# Don't delay the application, to avoid keeping the input\u001b[0m\u001b[0;34m\u001b[0m\u001b[0;34m\u001b[0m\u001b[0m\n\u001b[1;32m    331\u001b[0m         \u001b[0;31m# arguments in memory\u001b[0m\u001b[0;34m\u001b[0m\u001b[0;34m\u001b[0m\u001b[0m\n\u001b[0;32m--> 332\u001b[0;31m         \u001b[0mself\u001b[0m\u001b[0;34m.\u001b[0m\u001b[0mresults\u001b[0m \u001b[0;34m=\u001b[0m \u001b[0mbatch\u001b[0m\u001b[0;34m(\u001b[0m\u001b[0;34m)\u001b[0m\u001b[0;34m\u001b[0m\u001b[0m\n\u001b[0m\u001b[1;32m    333\u001b[0m \u001b[0;34m\u001b[0m\u001b[0m\n\u001b[1;32m    334\u001b[0m     \u001b[0;32mdef\u001b[0m \u001b[0mget\u001b[0m\u001b[0;34m(\u001b[0m\u001b[0mself\u001b[0m\u001b[0;34m)\u001b[0m\u001b[0;34m:\u001b[0m\u001b[0;34m\u001b[0m\u001b[0m\n",
      "\u001b[0;32m/opt/conda/lib/python3.6/site-packages/sklearn/externals/joblib/parallel.py\u001b[0m in \u001b[0;36m__call__\u001b[0;34m(self)\u001b[0m\n\u001b[1;32m    129\u001b[0m \u001b[0;34m\u001b[0m\u001b[0m\n\u001b[1;32m    130\u001b[0m     \u001b[0;32mdef\u001b[0m \u001b[0m__call__\u001b[0m\u001b[0;34m(\u001b[0m\u001b[0mself\u001b[0m\u001b[0;34m)\u001b[0m\u001b[0;34m:\u001b[0m\u001b[0;34m\u001b[0m\u001b[0m\n\u001b[0;32m--> 131\u001b[0;31m         \u001b[0;32mreturn\u001b[0m \u001b[0;34m[\u001b[0m\u001b[0mfunc\u001b[0m\u001b[0;34m(\u001b[0m\u001b[0;34m*\u001b[0m\u001b[0margs\u001b[0m\u001b[0;34m,\u001b[0m \u001b[0;34m**\u001b[0m\u001b[0mkwargs\u001b[0m\u001b[0;34m)\u001b[0m \u001b[0;32mfor\u001b[0m \u001b[0mfunc\u001b[0m\u001b[0;34m,\u001b[0m \u001b[0margs\u001b[0m\u001b[0;34m,\u001b[0m \u001b[0mkwargs\u001b[0m \u001b[0;32min\u001b[0m \u001b[0mself\u001b[0m\u001b[0;34m.\u001b[0m\u001b[0mitems\u001b[0m\u001b[0;34m]\u001b[0m\u001b[0;34m\u001b[0m\u001b[0m\n\u001b[0m\u001b[1;32m    132\u001b[0m \u001b[0;34m\u001b[0m\u001b[0m\n\u001b[1;32m    133\u001b[0m     \u001b[0;32mdef\u001b[0m \u001b[0m__len__\u001b[0m\u001b[0;34m(\u001b[0m\u001b[0mself\u001b[0m\u001b[0;34m)\u001b[0m\u001b[0;34m:\u001b[0m\u001b[0;34m\u001b[0m\u001b[0m\n",
      "\u001b[0;32m/opt/conda/lib/python3.6/site-packages/sklearn/externals/joblib/parallel.py\u001b[0m in \u001b[0;36m<listcomp>\u001b[0;34m(.0)\u001b[0m\n\u001b[1;32m    129\u001b[0m \u001b[0;34m\u001b[0m\u001b[0m\n\u001b[1;32m    130\u001b[0m     \u001b[0;32mdef\u001b[0m \u001b[0m__call__\u001b[0m\u001b[0;34m(\u001b[0m\u001b[0mself\u001b[0m\u001b[0;34m)\u001b[0m\u001b[0;34m:\u001b[0m\u001b[0;34m\u001b[0m\u001b[0m\n\u001b[0;32m--> 131\u001b[0;31m         \u001b[0;32mreturn\u001b[0m \u001b[0;34m[\u001b[0m\u001b[0mfunc\u001b[0m\u001b[0;34m(\u001b[0m\u001b[0;34m*\u001b[0m\u001b[0margs\u001b[0m\u001b[0;34m,\u001b[0m \u001b[0;34m**\u001b[0m\u001b[0mkwargs\u001b[0m\u001b[0;34m)\u001b[0m \u001b[0;32mfor\u001b[0m \u001b[0mfunc\u001b[0m\u001b[0;34m,\u001b[0m \u001b[0margs\u001b[0m\u001b[0;34m,\u001b[0m \u001b[0mkwargs\u001b[0m \u001b[0;32min\u001b[0m \u001b[0mself\u001b[0m\u001b[0;34m.\u001b[0m\u001b[0mitems\u001b[0m\u001b[0;34m]\u001b[0m\u001b[0;34m\u001b[0m\u001b[0m\n\u001b[0m\u001b[1;32m    132\u001b[0m \u001b[0;34m\u001b[0m\u001b[0m\n\u001b[1;32m    133\u001b[0m     \u001b[0;32mdef\u001b[0m \u001b[0m__len__\u001b[0m\u001b[0;34m(\u001b[0m\u001b[0mself\u001b[0m\u001b[0;34m)\u001b[0m\u001b[0;34m:\u001b[0m\u001b[0;34m\u001b[0m\u001b[0m\n",
      "\u001b[0;32m/opt/conda/lib/python3.6/site-packages/sklearn/model_selection/_validation.py\u001b[0m in \u001b[0;36m_fit_and_score\u001b[0;34m(estimator, X, y, scorer, train, test, verbose, parameters, fit_params, return_train_score, return_parameters, return_n_test_samples, return_times, error_score)\u001b[0m\n\u001b[1;32m    456\u001b[0m             \u001b[0mestimator\u001b[0m\u001b[0;34m.\u001b[0m\u001b[0mfit\u001b[0m\u001b[0;34m(\u001b[0m\u001b[0mX_train\u001b[0m\u001b[0;34m,\u001b[0m \u001b[0;34m**\u001b[0m\u001b[0mfit_params\u001b[0m\u001b[0;34m)\u001b[0m\u001b[0;34m\u001b[0m\u001b[0m\n\u001b[1;32m    457\u001b[0m         \u001b[0;32melse\u001b[0m\u001b[0;34m:\u001b[0m\u001b[0;34m\u001b[0m\u001b[0m\n\u001b[0;32m--> 458\u001b[0;31m             \u001b[0mestimator\u001b[0m\u001b[0;34m.\u001b[0m\u001b[0mfit\u001b[0m\u001b[0;34m(\u001b[0m\u001b[0mX_train\u001b[0m\u001b[0;34m,\u001b[0m \u001b[0my_train\u001b[0m\u001b[0;34m,\u001b[0m \u001b[0;34m**\u001b[0m\u001b[0mfit_params\u001b[0m\u001b[0;34m)\u001b[0m\u001b[0;34m\u001b[0m\u001b[0m\n\u001b[0m\u001b[1;32m    459\u001b[0m \u001b[0;34m\u001b[0m\u001b[0m\n\u001b[1;32m    460\u001b[0m     \u001b[0;32mexcept\u001b[0m \u001b[0mException\u001b[0m \u001b[0;32mas\u001b[0m \u001b[0me\u001b[0m\u001b[0;34m:\u001b[0m\u001b[0;34m\u001b[0m\u001b[0m\n",
      "\u001b[0;32m/opt/conda/lib/python3.6/site-packages/Keras-2.2.4-py3.6.egg/keras/wrappers/scikit_learn.py\u001b[0m in \u001b[0;36mfit\u001b[0;34m(self, x, y, sample_weight, **kwargs)\u001b[0m\n\u001b[1;32m    208\u001b[0m         \u001b[0;32mif\u001b[0m \u001b[0msample_weight\u001b[0m \u001b[0;32mis\u001b[0m \u001b[0;32mnot\u001b[0m \u001b[0;32mNone\u001b[0m\u001b[0;34m:\u001b[0m\u001b[0;34m\u001b[0m\u001b[0m\n\u001b[1;32m    209\u001b[0m             \u001b[0mkwargs\u001b[0m\u001b[0;34m[\u001b[0m\u001b[0;34m'sample_weight'\u001b[0m\u001b[0;34m]\u001b[0m \u001b[0;34m=\u001b[0m \u001b[0msample_weight\u001b[0m\u001b[0;34m\u001b[0m\u001b[0m\n\u001b[0;32m--> 210\u001b[0;31m         \u001b[0;32mreturn\u001b[0m \u001b[0msuper\u001b[0m\u001b[0;34m(\u001b[0m\u001b[0mKerasClassifier\u001b[0m\u001b[0;34m,\u001b[0m \u001b[0mself\u001b[0m\u001b[0;34m)\u001b[0m\u001b[0;34m.\u001b[0m\u001b[0mfit\u001b[0m\u001b[0;34m(\u001b[0m\u001b[0mx\u001b[0m\u001b[0;34m,\u001b[0m \u001b[0my\u001b[0m\u001b[0;34m,\u001b[0m \u001b[0;34m**\u001b[0m\u001b[0mkwargs\u001b[0m\u001b[0;34m)\u001b[0m\u001b[0;34m\u001b[0m\u001b[0m\n\u001b[0m\u001b[1;32m    211\u001b[0m \u001b[0;34m\u001b[0m\u001b[0m\n\u001b[1;32m    212\u001b[0m     \u001b[0;32mdef\u001b[0m \u001b[0mpredict\u001b[0m\u001b[0;34m(\u001b[0m\u001b[0mself\u001b[0m\u001b[0;34m,\u001b[0m \u001b[0mx\u001b[0m\u001b[0;34m,\u001b[0m \u001b[0;34m**\u001b[0m\u001b[0mkwargs\u001b[0m\u001b[0;34m)\u001b[0m\u001b[0;34m:\u001b[0m\u001b[0;34m\u001b[0m\u001b[0m\n",
      "\u001b[0;32m/opt/conda/lib/python3.6/site-packages/Keras-2.2.4-py3.6.egg/keras/wrappers/scikit_learn.py\u001b[0m in \u001b[0;36mfit\u001b[0;34m(self, x, y, **kwargs)\u001b[0m\n\u001b[1;32m    150\u001b[0m         \u001b[0mfit_args\u001b[0m\u001b[0;34m.\u001b[0m\u001b[0mupdate\u001b[0m\u001b[0;34m(\u001b[0m\u001b[0mkwargs\u001b[0m\u001b[0;34m)\u001b[0m\u001b[0;34m\u001b[0m\u001b[0m\n\u001b[1;32m    151\u001b[0m \u001b[0;34m\u001b[0m\u001b[0m\n\u001b[0;32m--> 152\u001b[0;31m         \u001b[0mhistory\u001b[0m \u001b[0;34m=\u001b[0m \u001b[0mself\u001b[0m\u001b[0;34m.\u001b[0m\u001b[0mmodel\u001b[0m\u001b[0;34m.\u001b[0m\u001b[0mfit\u001b[0m\u001b[0;34m(\u001b[0m\u001b[0mx\u001b[0m\u001b[0;34m,\u001b[0m \u001b[0my\u001b[0m\u001b[0;34m,\u001b[0m \u001b[0;34m**\u001b[0m\u001b[0mfit_args\u001b[0m\u001b[0;34m)\u001b[0m\u001b[0;34m\u001b[0m\u001b[0m\n\u001b[0m\u001b[1;32m    153\u001b[0m \u001b[0;34m\u001b[0m\u001b[0m\n\u001b[1;32m    154\u001b[0m         \u001b[0;32mreturn\u001b[0m \u001b[0mhistory\u001b[0m\u001b[0;34m\u001b[0m\u001b[0m\n",
      "\u001b[0;32m/opt/conda/lib/python3.6/site-packages/Keras-2.2.4-py3.6.egg/keras/engine/training.py\u001b[0m in \u001b[0;36mfit\u001b[0;34m(self, x, y, batch_size, epochs, verbose, callbacks, validation_split, validation_data, shuffle, class_weight, sample_weight, initial_epoch, steps_per_epoch, validation_steps, **kwargs)\u001b[0m\n\u001b[1;32m   1037\u001b[0m                                         \u001b[0minitial_epoch\u001b[0m\u001b[0;34m=\u001b[0m\u001b[0minitial_epoch\u001b[0m\u001b[0;34m,\u001b[0m\u001b[0;34m\u001b[0m\u001b[0m\n\u001b[1;32m   1038\u001b[0m                                         \u001b[0msteps_per_epoch\u001b[0m\u001b[0;34m=\u001b[0m\u001b[0msteps_per_epoch\u001b[0m\u001b[0;34m,\u001b[0m\u001b[0;34m\u001b[0m\u001b[0m\n\u001b[0;32m-> 1039\u001b[0;31m                                         validation_steps=validation_steps)\n\u001b[0m\u001b[1;32m   1040\u001b[0m \u001b[0;34m\u001b[0m\u001b[0m\n\u001b[1;32m   1041\u001b[0m     def evaluate(self, x=None, y=None,\n",
      "\u001b[0;32m/opt/conda/lib/python3.6/site-packages/Keras-2.2.4-py3.6.egg/keras/engine/training_arrays.py\u001b[0m in \u001b[0;36mfit_loop\u001b[0;34m(model, fit_function, fit_inputs, out_labels, batch_size, epochs, verbose, callbacks, val_function, val_inputs, shuffle, callback_metrics, initial_epoch, steps_per_epoch, validation_steps)\u001b[0m\n\u001b[1;32m    198\u001b[0m                     \u001b[0mins_batch\u001b[0m\u001b[0;34m[\u001b[0m\u001b[0mi\u001b[0m\u001b[0;34m]\u001b[0m \u001b[0;34m=\u001b[0m \u001b[0mins_batch\u001b[0m\u001b[0;34m[\u001b[0m\u001b[0mi\u001b[0m\u001b[0;34m]\u001b[0m\u001b[0;34m.\u001b[0m\u001b[0mtoarray\u001b[0m\u001b[0;34m(\u001b[0m\u001b[0;34m)\u001b[0m\u001b[0;34m\u001b[0m\u001b[0m\n\u001b[1;32m    199\u001b[0m \u001b[0;34m\u001b[0m\u001b[0m\n\u001b[0;32m--> 200\u001b[0;31m                 \u001b[0mouts\u001b[0m \u001b[0;34m=\u001b[0m \u001b[0mfit_function\u001b[0m\u001b[0;34m(\u001b[0m\u001b[0mins_batch\u001b[0m\u001b[0;34m)\u001b[0m\u001b[0;34m\u001b[0m\u001b[0m\n\u001b[0m\u001b[1;32m    201\u001b[0m                 \u001b[0mouts\u001b[0m \u001b[0;34m=\u001b[0m \u001b[0mto_list\u001b[0m\u001b[0;34m(\u001b[0m\u001b[0mouts\u001b[0m\u001b[0;34m)\u001b[0m\u001b[0;34m\u001b[0m\u001b[0m\n\u001b[1;32m    202\u001b[0m                 \u001b[0;32mfor\u001b[0m \u001b[0ml\u001b[0m\u001b[0;34m,\u001b[0m \u001b[0mo\u001b[0m \u001b[0;32min\u001b[0m \u001b[0mzip\u001b[0m\u001b[0;34m(\u001b[0m\u001b[0mout_labels\u001b[0m\u001b[0;34m,\u001b[0m \u001b[0mouts\u001b[0m\u001b[0;34m)\u001b[0m\u001b[0;34m:\u001b[0m\u001b[0;34m\u001b[0m\u001b[0m\n",
      "\u001b[0;32m/opt/conda/lib/python3.6/site-packages/Keras-2.2.4-py3.6.egg/keras/backend/tensorflow_backend.py\u001b[0m in \u001b[0;36m__call__\u001b[0;34m(self, inputs)\u001b[0m\n\u001b[1;32m   2713\u001b[0m                 \u001b[0;32mreturn\u001b[0m \u001b[0mself\u001b[0m\u001b[0;34m.\u001b[0m\u001b[0m_legacy_call\u001b[0m\u001b[0;34m(\u001b[0m\u001b[0minputs\u001b[0m\u001b[0;34m)\u001b[0m\u001b[0;34m\u001b[0m\u001b[0m\n\u001b[1;32m   2714\u001b[0m \u001b[0;34m\u001b[0m\u001b[0m\n\u001b[0;32m-> 2715\u001b[0;31m             \u001b[0;32mreturn\u001b[0m \u001b[0mself\u001b[0m\u001b[0;34m.\u001b[0m\u001b[0m_call\u001b[0m\u001b[0;34m(\u001b[0m\u001b[0minputs\u001b[0m\u001b[0;34m)\u001b[0m\u001b[0;34m\u001b[0m\u001b[0m\n\u001b[0m\u001b[1;32m   2716\u001b[0m         \u001b[0;32melse\u001b[0m\u001b[0;34m:\u001b[0m\u001b[0;34m\u001b[0m\u001b[0m\n\u001b[1;32m   2717\u001b[0m             \u001b[0;32mif\u001b[0m \u001b[0mpy_any\u001b[0m\u001b[0;34m(\u001b[0m\u001b[0mis_tensor\u001b[0m\u001b[0;34m(\u001b[0m\u001b[0mx\u001b[0m\u001b[0;34m)\u001b[0m \u001b[0;32mfor\u001b[0m \u001b[0mx\u001b[0m \u001b[0;32min\u001b[0m \u001b[0minputs\u001b[0m\u001b[0;34m)\u001b[0m\u001b[0;34m:\u001b[0m\u001b[0;34m\u001b[0m\u001b[0m\n",
      "\u001b[0;32m/opt/conda/lib/python3.6/site-packages/Keras-2.2.4-py3.6.egg/keras/backend/tensorflow_backend.py\u001b[0m in \u001b[0;36m_call\u001b[0;34m(self, inputs)\u001b[0m\n\u001b[1;32m   2673\u001b[0m             \u001b[0mfetched\u001b[0m \u001b[0;34m=\u001b[0m \u001b[0mself\u001b[0m\u001b[0;34m.\u001b[0m\u001b[0m_callable_fn\u001b[0m\u001b[0;34m(\u001b[0m\u001b[0;34m*\u001b[0m\u001b[0marray_vals\u001b[0m\u001b[0;34m,\u001b[0m \u001b[0mrun_metadata\u001b[0m\u001b[0;34m=\u001b[0m\u001b[0mself\u001b[0m\u001b[0;34m.\u001b[0m\u001b[0mrun_metadata\u001b[0m\u001b[0;34m)\u001b[0m\u001b[0;34m\u001b[0m\u001b[0m\n\u001b[1;32m   2674\u001b[0m         \u001b[0;32melse\u001b[0m\u001b[0;34m:\u001b[0m\u001b[0;34m\u001b[0m\u001b[0m\n\u001b[0;32m-> 2675\u001b[0;31m             \u001b[0mfetched\u001b[0m \u001b[0;34m=\u001b[0m \u001b[0mself\u001b[0m\u001b[0;34m.\u001b[0m\u001b[0m_callable_fn\u001b[0m\u001b[0;34m(\u001b[0m\u001b[0;34m*\u001b[0m\u001b[0marray_vals\u001b[0m\u001b[0;34m)\u001b[0m\u001b[0;34m\u001b[0m\u001b[0m\n\u001b[0m\u001b[1;32m   2676\u001b[0m         \u001b[0;32mreturn\u001b[0m \u001b[0mfetched\u001b[0m\u001b[0;34m[\u001b[0m\u001b[0;34m:\u001b[0m\u001b[0mlen\u001b[0m\u001b[0;34m(\u001b[0m\u001b[0mself\u001b[0m\u001b[0;34m.\u001b[0m\u001b[0moutputs\u001b[0m\u001b[0;34m)\u001b[0m\u001b[0;34m]\u001b[0m\u001b[0;34m\u001b[0m\u001b[0m\n\u001b[1;32m   2677\u001b[0m \u001b[0;34m\u001b[0m\u001b[0m\n",
      "\u001b[0;32m/opt/conda/lib/python3.6/site-packages/tensorflow/python/client/session.py\u001b[0m in \u001b[0;36m__call__\u001b[0;34m(self, *args, **kwargs)\u001b[0m\n\u001b[1;32m   1397\u001b[0m           ret = tf_session.TF_SessionRunCallable(\n\u001b[1;32m   1398\u001b[0m               \u001b[0mself\u001b[0m\u001b[0;34m.\u001b[0m\u001b[0m_session\u001b[0m\u001b[0;34m.\u001b[0m\u001b[0m_session\u001b[0m\u001b[0;34m,\u001b[0m \u001b[0mself\u001b[0m\u001b[0;34m.\u001b[0m\u001b[0m_handle\u001b[0m\u001b[0;34m,\u001b[0m \u001b[0margs\u001b[0m\u001b[0;34m,\u001b[0m \u001b[0mstatus\u001b[0m\u001b[0;34m,\u001b[0m\u001b[0;34m\u001b[0m\u001b[0m\n\u001b[0;32m-> 1399\u001b[0;31m               run_metadata_ptr)\n\u001b[0m\u001b[1;32m   1400\u001b[0m         \u001b[0;32mif\u001b[0m \u001b[0mrun_metadata\u001b[0m\u001b[0;34m:\u001b[0m\u001b[0;34m\u001b[0m\u001b[0m\n\u001b[1;32m   1401\u001b[0m           \u001b[0mproto_data\u001b[0m \u001b[0;34m=\u001b[0m \u001b[0mtf_session\u001b[0m\u001b[0;34m.\u001b[0m\u001b[0mTF_GetBuffer\u001b[0m\u001b[0;34m(\u001b[0m\u001b[0mrun_metadata_ptr\u001b[0m\u001b[0;34m)\u001b[0m\u001b[0;34m\u001b[0m\u001b[0m\n",
      "\u001b[0;31mKeyboardInterrupt\u001b[0m: "
     ]
    }
   ],
   "source": [
    "estimator = KerasClassifier(build_fn=build_model, verbose = 0)\n",
    "\n",
    "tuned_parameters = { 'batch_size': [96], 'epochs': [5, 10] }\n",
    "scores = ['accuracy','precision', 'recall']\n",
    "\n",
    "for score in scores:\n",
    "    print(\"=\"*39, \"\\n# Tuning hyper-parameters for {}:\\n\".format(score), \"=\"*39)\n",
    "\n",
    "  # clf = GridSearchCV(estimator, tuned_parameters, cv=5, scoring='%s_macro' % score)\n",
    "    clf = GridSearchCV(estimator, tuned_parameters, cv=5, scoring=score)\n",
    "    clf.fit(train_images, y_train)\n",
    "\n",
    "    print(\"\\n# Best parameters set found on development set: \", clf.best_params_)\n",
    "    print(\"# Grid scores on development set:\")\n",
    "    means = clf.cv_results_['mean_test_score']\n",
    "    stds = clf.cv_results_['std_test_score']\n",
    "    for mean, std, params in zip(means, stds, clf.cv_results_['params']):\n",
    "        print(\"\\t\\t\\t\\t %0.3f (+/-%0.03f) for %r\" % (mean, std * 2, params))\n",
    "    print()\n",
    "\n",
    "    print(\"# Detailed classification report: \")\n",
    "    # The model is trained on the full development set. & The scores are computed on the full evaluation set.\n",
    "    y_true, y_pred = y_test, clf.predict(test_images)\n",
    "    print(\"Accuracy = {}\".format(accuracy_score(y_true, y_pred)))\n",
    "    print(classification_report(y_true, y_pred), \"\\n\")"
   ]
  },
  {
   "cell_type": "code",
   "execution_count": null,
   "metadata": {
    "_uuid": "31c9aa8b4267bd71e74ec0af158a9821b02e4be2"
   },
   "outputs": [],
   "source": []
  },
  {
   "cell_type": "code",
   "execution_count": null,
   "metadata": {
    "_uuid": "503b7e9e4998ece638f2af99ed5c0a5d3485b2c7"
   },
   "outputs": [],
   "source": []
  },
  {
   "cell_type": "code",
   "execution_count": null,
   "metadata": {
    "_uuid": "662555774c99b90db6eee06e5525b0f08380cb10"
   },
   "outputs": [],
   "source": []
  }
 ],
 "metadata": {
  "kernelspec": {
   "display_name": "Python 3",
   "language": "python",
   "name": "python3"
  },
  "language_info": {
   "codemirror_mode": {
    "name": "ipython",
    "version": 3
   },
   "file_extension": ".py",
   "mimetype": "text/x-python",
   "name": "python",
   "nbconvert_exporter": "python",
   "pygments_lexer": "ipython3",
   "version": "3.6.5"
  }
 },
 "nbformat": 4,
 "nbformat_minor": 1
}
