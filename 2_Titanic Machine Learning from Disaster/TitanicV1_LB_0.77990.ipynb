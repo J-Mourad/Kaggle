{
  "cells": [
    {
      "metadata": {
        "_cell_guid": "79c7e3d0-c299-4dcb-8224-4455121ee9b0",
        "_uuid": "d629ff2d2480ee46fbb7e2d37f6b5fab8052498a",
        "trusted": true
      },
      "cell_type": "code",
      "source": "import pandas as pd\nimport matplotlib.pyplot as plt\nimport seaborn as sns\nimport re\nimport numpy as np\nfrom sklearn import tree\nfrom sklearn.model_selection import GridSearchCV\n\n%matplotlib inline\n\ndf_train = pd.read_csv(\"../input/train.csv\")\ndf_test = pd.read_csv(\"../input/test.csv\")\ndf_train.head()",
      "execution_count": 2,
      "outputs": [
        {
          "output_type": "execute_result",
          "execution_count": 2,
          "data": {
            "text/plain": "   PassengerId  Survived  Pclass    ...        Fare Cabin  Embarked\n0            1         0       3    ...      7.2500   NaN         S\n1            2         1       1    ...     71.2833   C85         C\n2            3         1       3    ...      7.9250   NaN         S\n3            4         1       1    ...     53.1000  C123         S\n4            5         0       3    ...      8.0500   NaN         S\n\n[5 rows x 12 columns]",
            "text/html": "<div>\n<style scoped>\n    .dataframe tbody tr th:only-of-type {\n        vertical-align: middle;\n    }\n\n    .dataframe tbody tr th {\n        vertical-align: top;\n    }\n\n    .dataframe thead th {\n        text-align: right;\n    }\n</style>\n<table border=\"1\" class=\"dataframe\">\n  <thead>\n    <tr style=\"text-align: right;\">\n      <th></th>\n      <th>PassengerId</th>\n      <th>Survived</th>\n      <th>Pclass</th>\n      <th>Name</th>\n      <th>Sex</th>\n      <th>Age</th>\n      <th>SibSp</th>\n      <th>Parch</th>\n      <th>Ticket</th>\n      <th>Fare</th>\n      <th>Cabin</th>\n      <th>Embarked</th>\n    </tr>\n  </thead>\n  <tbody>\n    <tr>\n      <th>0</th>\n      <td>1</td>\n      <td>0</td>\n      <td>3</td>\n      <td>Braund, Mr. Owen Harris</td>\n      <td>male</td>\n      <td>22.0</td>\n      <td>1</td>\n      <td>0</td>\n      <td>A/5 21171</td>\n      <td>7.2500</td>\n      <td>NaN</td>\n      <td>S</td>\n    </tr>\n    <tr>\n      <th>1</th>\n      <td>2</td>\n      <td>1</td>\n      <td>1</td>\n      <td>Cumings, Mrs. John Bradley (Florence Briggs Th...</td>\n      <td>female</td>\n      <td>38.0</td>\n      <td>1</td>\n      <td>0</td>\n      <td>PC 17599</td>\n      <td>71.2833</td>\n      <td>C85</td>\n      <td>C</td>\n    </tr>\n    <tr>\n      <th>2</th>\n      <td>3</td>\n      <td>1</td>\n      <td>3</td>\n      <td>Heikkinen, Miss. Laina</td>\n      <td>female</td>\n      <td>26.0</td>\n      <td>0</td>\n      <td>0</td>\n      <td>STON/O2. 3101282</td>\n      <td>7.9250</td>\n      <td>NaN</td>\n      <td>S</td>\n    </tr>\n    <tr>\n      <th>3</th>\n      <td>4</td>\n      <td>1</td>\n      <td>1</td>\n      <td>Futrelle, Mrs. Jacques Heath (Lily May Peel)</td>\n      <td>female</td>\n      <td>35.0</td>\n      <td>1</td>\n      <td>0</td>\n      <td>113803</td>\n      <td>53.1000</td>\n      <td>C123</td>\n      <td>S</td>\n    </tr>\n    <tr>\n      <th>4</th>\n      <td>5</td>\n      <td>0</td>\n      <td>3</td>\n      <td>Allen, Mr. William Henry</td>\n      <td>male</td>\n      <td>35.0</td>\n      <td>0</td>\n      <td>0</td>\n      <td>373450</td>\n      <td>8.0500</td>\n      <td>NaN</td>\n      <td>S</td>\n    </tr>\n  </tbody>\n</table>\n</div>"
          },
          "metadata": {}
        }
      ]
    },
    {
      "metadata": {
        "_uuid": "ab023ab1c769375e3bbfdef6fab33e85d0959453"
      },
      "cell_type": "markdown",
      "source": "## Data Cleaning"
    },
    {
      "metadata": {
        "trusted": true,
        "_uuid": "d94479ca7f290cf97870effc1f85c4ac6e64f51e"
      },
      "cell_type": "code",
      "source": "survived_train = df_train.Survived\ndata = pd.concat([df_train.drop(['Survived'], axis=1), df_test])\ndata.info()",
      "execution_count": 4,
      "outputs": [
        {
          "output_type": "stream",
          "text": "<class 'pandas.core.frame.DataFrame'>\nInt64Index: 1309 entries, 0 to 417\nData columns (total 11 columns):\nPassengerId    1309 non-null int64\nPclass         1309 non-null int64\nName           1309 non-null object\nSex            1309 non-null object\nAge            1046 non-null float64\nSibSp          1309 non-null int64\nParch          1309 non-null int64\nTicket         1309 non-null object\nFare           1308 non-null float64\nCabin          295 non-null object\nEmbarked       1307 non-null object\ndtypes: float64(2), int64(4), object(5)\nmemory usage: 122.7+ KB\n",
          "name": "stdout"
        }
      ]
    },
    {
      "metadata": {
        "trusted": true,
        "_uuid": "7f8c3b2cb2a35f552f043fae37579c6633f01d4d"
      },
      "cell_type": "code",
      "source": "data.Name.tail()",
      "execution_count": 5,
      "outputs": [
        {
          "output_type": "execute_result",
          "execution_count": 5,
          "data": {
            "text/plain": "413              Spector, Mr. Woolf\n414    Oliva y Ocana, Dona. Fermina\n415    Saether, Mr. Simon Sivertsen\n416             Ware, Mr. Frederick\n417        Peter, Master. Michael J\nName: Name, dtype: object"
          },
          "metadata": {}
        }
      ]
    },
    {
      "metadata": {
        "_uuid": "b5b034f7dc9ab0d1ab76af4b94d895f3b1fe3259"
      },
      "cell_type": "markdown",
      "source": "<style>\n.output_png {\n    display: table-cell;\n    text-align: center;\n    vertical-align: middle;\n}\n</style>"
    },
    {
      "metadata": {
        "trusted": true,
        "_uuid": "84c67d92cbbb65d561dd72efb385638e193308b1"
      },
      "cell_type": "code",
      "source": "## Extracting a new feature\ndata['Title'] = data.Name.apply(lambda x: re.search(' ([A-Z][a-z]+)\\.', x).group(1))\nsns.countplot(x='Title', data=data);\nplt.xticks(rotation=45);",
      "execution_count": 12,
      "outputs": [
        {
          "output_type": "display_data",
          "data": {
            "text/plain": "<Figure size 432x288 with 1 Axes>",
            "image/png": "[encoded data removed]"
          },
          "metadata": {
            "needs_background": "light"
          }
        }
      ]
    },
    {
      "metadata": {
        "trusted": true,
        "_uuid": "355aadfaf3740bf0d4de62d46fe69166fc70851e"
      },
      "cell_type": "code",
      "source": "data['Title'] = data['Title'].replace({'Mlle':'Miss', 'Mme':'Mrs', 'Ms':'Miss'})\ndata['Title'] = data['Title'].replace(['Don', 'Dona', 'Rev', 'Dr','Major', 'Lady', 'Sir',\n                                       'Col', 'Capt', 'Countess','Jonkheer'],'Special')\nsns.countplot(x='Title', data=data);\nplt.xticks(rotation=45);",
      "execution_count": 13,
      "outputs": [
        {
          "output_type": "display_data",
          "data": {
            "text/plain": "<Figure size 432x288 with 1 Axes>",
            "image/png": "[encoded data removed]"
          },
          "metadata": {
            "needs_background": "light"
          }
        }
      ]
    },
    {
      "metadata": {
        "trusted": true,
        "_uuid": "8048fddb57a409bb0aa1db5bcf17ed211b3d55ea"
      },
      "cell_type": "code",
      "source": "data['Has_Cabin'] = ~data.Cabin.isnull()",
      "execution_count": 14,
      "outputs": []
    },
    {
      "metadata": {
        "trusted": true,
        "_uuid": "20e85c02fbf576529039402fb4f476b9ef24345e"
      },
      "cell_type": "code",
      "source": "data.drop(['Cabin', 'Name', 'PassengerId', 'Ticket'], axis=1, inplace=True)\ndata.head()",
      "execution_count": 15,
      "outputs": [
        {
          "output_type": "execute_result",
          "execution_count": 15,
          "data": {
            "text/plain": "   Pclass     Sex   Age  SibSp    ...        Fare  Embarked Title Has_Cabin\n0       3    male  22.0      1    ...      7.2500         S    Mr     False\n1       1  female  38.0      1    ...     71.2833         C   Mrs      True\n2       3  female  26.0      0    ...      7.9250         S  Miss     False\n3       1  female  35.0      1    ...     53.1000         S   Mrs      True\n4       3    male  35.0      0    ...      8.0500         S    Mr     False\n\n[5 rows x 9 columns]",
            "text/html": "<div>\n<style scoped>\n    .dataframe tbody tr th:only-of-type {\n        vertical-align: middle;\n    }\n\n    .dataframe tbody tr th {\n        vertical-align: top;\n    }\n\n    .dataframe thead th {\n        text-align: right;\n    }\n</style>\n<table border=\"1\" class=\"dataframe\">\n  <thead>\n    <tr style=\"text-align: right;\">\n      <th></th>\n      <th>Pclass</th>\n      <th>Sex</th>\n      <th>Age</th>\n      <th>SibSp</th>\n      <th>Parch</th>\n      <th>Fare</th>\n      <th>Embarked</th>\n      <th>Title</th>\n      <th>Has_Cabin</th>\n    </tr>\n  </thead>\n  <tbody>\n    <tr>\n      <th>0</th>\n      <td>3</td>\n      <td>male</td>\n      <td>22.0</td>\n      <td>1</td>\n      <td>0</td>\n      <td>7.2500</td>\n      <td>S</td>\n      <td>Mr</td>\n      <td>False</td>\n    </tr>\n    <tr>\n      <th>1</th>\n      <td>1</td>\n      <td>female</td>\n      <td>38.0</td>\n      <td>1</td>\n      <td>0</td>\n      <td>71.2833</td>\n      <td>C</td>\n      <td>Mrs</td>\n      <td>True</td>\n    </tr>\n    <tr>\n      <th>2</th>\n      <td>3</td>\n      <td>female</td>\n      <td>26.0</td>\n      <td>0</td>\n      <td>0</td>\n      <td>7.9250</td>\n      <td>S</td>\n      <td>Miss</td>\n      <td>False</td>\n    </tr>\n    <tr>\n      <th>3</th>\n      <td>1</td>\n      <td>female</td>\n      <td>35.0</td>\n      <td>1</td>\n      <td>0</td>\n      <td>53.1000</td>\n      <td>S</td>\n      <td>Mrs</td>\n      <td>True</td>\n    </tr>\n    <tr>\n      <th>4</th>\n      <td>3</td>\n      <td>male</td>\n      <td>35.0</td>\n      <td>0</td>\n      <td>0</td>\n      <td>8.0500</td>\n      <td>S</td>\n      <td>Mr</td>\n      <td>False</td>\n    </tr>\n  </tbody>\n</table>\n</div>"
          },
          "metadata": {}
        }
      ]
    },
    {
      "metadata": {
        "trusted": true,
        "_uuid": "bbd2c383bab8c528df0966d534c844f63a136dc9"
      },
      "cell_type": "code",
      "source": "## Handling missing values\n# data.info()\n\n# Impute missing values for Age, Fare, Embarked\ndata['Age'] = data.Age.fillna(data.Age.median())\ndata['Fare'] = data.Fare.fillna(data.Fare.median())\ndata['Embarked'] = data['Embarked'].fillna('S')\ndata.info()",
      "execution_count": 17,
      "outputs": [
        {
          "output_type": "stream",
          "text": "<class 'pandas.core.frame.DataFrame'>\nInt64Index: 1309 entries, 0 to 417\nData columns (total 9 columns):\nPclass       1309 non-null int64\nSex          1309 non-null object\nAge          1309 non-null float64\nSibSp        1309 non-null int64\nParch        1309 non-null int64\nFare         1309 non-null float64\nEmbarked     1309 non-null object\nTitle        1309 non-null object\nHas_Cabin    1309 non-null bool\ndtypes: bool(1), float64(2), int64(3), object(3)\nmemory usage: 133.3+ KB\n",
          "name": "stdout"
        }
      ]
    },
    {
      "metadata": {
        "trusted": true,
        "_uuid": "1835ce83f2f23869260613699a69635b4a2108ef"
      },
      "cell_type": "code",
      "source": "# Binning numerical columns\n\ndata['CatAge'] = pd.qcut(data.Age, q=4, labels=False)\ndata['CatFare'] = pd.qcut(data.Fare, q=4, labels=False)\ndata = data.drop(['Age', 'Fare'], axis=1)",
      "execution_count": 18,
      "outputs": []
    },
    {
      "metadata": {
        "trusted": true,
        "_uuid": "69cbd7599ee28b45215b695d665a16f52ef737c3"
      },
      "cell_type": "code",
      "source": "# Create column of number of Family members onboard\ndata['Fam_Size'] = data.Parch + data.SibSp\ndata = data.drop(['SibSp','Parch'], axis=1)\ndata.head()",
      "execution_count": 20,
      "outputs": [
        {
          "output_type": "execute_result",
          "execution_count": 20,
          "data": {
            "text/plain": "   Pclass     Sex Embarked Title  Has_Cabin  CatAge  CatFare  Fam_Size\n0       3    male        S    Mr      False       0        0         1\n1       1  female        C   Mrs       True       3        3         1\n2       3  female        S  Miss      False       1        1         0\n3       1  female        S   Mrs       True       2        3         1\n4       3    male        S    Mr      False       2        1         0",
            "text/html": "<div>\n<style scoped>\n    .dataframe tbody tr th:only-of-type {\n        vertical-align: middle;\n    }\n\n    .dataframe tbody tr th {\n        vertical-align: top;\n    }\n\n    .dataframe thead th {\n        text-align: right;\n    }\n</style>\n<table border=\"1\" class=\"dataframe\">\n  <thead>\n    <tr style=\"text-align: right;\">\n      <th></th>\n      <th>Pclass</th>\n      <th>Sex</th>\n      <th>Embarked</th>\n      <th>Title</th>\n      <th>Has_Cabin</th>\n      <th>CatAge</th>\n      <th>CatFare</th>\n      <th>Fam_Size</th>\n    </tr>\n  </thead>\n  <tbody>\n    <tr>\n      <th>0</th>\n      <td>3</td>\n      <td>male</td>\n      <td>S</td>\n      <td>Mr</td>\n      <td>False</td>\n      <td>0</td>\n      <td>0</td>\n      <td>1</td>\n    </tr>\n    <tr>\n      <th>1</th>\n      <td>1</td>\n      <td>female</td>\n      <td>C</td>\n      <td>Mrs</td>\n      <td>True</td>\n      <td>3</td>\n      <td>3</td>\n      <td>1</td>\n    </tr>\n    <tr>\n      <th>2</th>\n      <td>3</td>\n      <td>female</td>\n      <td>S</td>\n      <td>Miss</td>\n      <td>False</td>\n      <td>1</td>\n      <td>1</td>\n      <td>0</td>\n    </tr>\n    <tr>\n      <th>3</th>\n      <td>1</td>\n      <td>female</td>\n      <td>S</td>\n      <td>Mrs</td>\n      <td>True</td>\n      <td>2</td>\n      <td>3</td>\n      <td>1</td>\n    </tr>\n    <tr>\n      <th>4</th>\n      <td>3</td>\n      <td>male</td>\n      <td>S</td>\n      <td>Mr</td>\n      <td>False</td>\n      <td>2</td>\n      <td>1</td>\n      <td>0</td>\n    </tr>\n  </tbody>\n</table>\n</div>"
          },
          "metadata": {}
        }
      ]
    },
    {
      "metadata": {
        "trusted": true,
        "_uuid": "aebabbad94a7c92db7426466868a2733f27f3f68"
      },
      "cell_type": "code",
      "source": "# Transform into binary variables\ndata_dum = pd.get_dummies(data, drop_first=True)",
      "execution_count": 21,
      "outputs": []
    },
    {
      "metadata": {
        "_uuid": "96ecf0c00337abff111ecaeae83a3e8087feb1de"
      },
      "cell_type": "markdown",
      "source": "## Building a predictive model with the new dataset"
    },
    {
      "metadata": {
        "trusted": true,
        "_uuid": "6d030a06108a92cecacb0f6a3db4b5190dd9ae38"
      },
      "cell_type": "code",
      "source": "data_train = data_dum.iloc[:891]\ndata_test = data_dum.iloc[891:]\n\n# Transform into arrays for sklearn\nX = data_train.values\ntest = data_test.values\ny = survived_train.values",
      "execution_count": 22,
      "outputs": []
    },
    {
      "metadata": {
        "trusted": true,
        "_uuid": "b5050bedec1c6ef15e900c1d5fc5b348a35ba1cf"
      },
      "cell_type": "code",
      "source": "param_grid = {\n    'max_depth' : np.arange(1, 9)\n}\n\nclf = tree.DecisionTreeClassifier()\nclf_cv = GridSearchCV(clf, param_grid=param_grid)\nclf_cv.fit(X, y)\n\nprint(\"Tuned Decision Tree Parameters : {}\".format(clf_cv.best_params_))\nprint(\"Best score is {}\".format(clf_cv.best_score_))",
      "execution_count": 24,
      "outputs": [
        {
          "output_type": "stream",
          "text": "Tuned Decision Tree Parameters : {'max_depth': 5}\nBest score is 0.8215488215488216\n",
          "name": "stdout"
        }
      ]
    },
    {
      "metadata": {
        "trusted": true,
        "_uuid": "0a62f42fbad3a6c34d55d6ee9cafc54c9540dcdb"
      },
      "cell_type": "code",
      "source": "Y_pred = clf_cv.predict(test)\ndf_test['Survived'] = Y_pred\ndf_test[['PassengerId', 'Survived']].to_csv('predictions.csv', index=False)",
      "execution_count": 30,
      "outputs": []
    },
    {
      "metadata": {
        "trusted": true,
        "_uuid": "87ec043609719fa9da7d74d287d9664869120199"
      },
      "cell_type": "code",
      "source": "",
      "execution_count": null,
      "outputs": []
    }
  ],
  "metadata": {
    "kernelspec": {
      "display_name": "Python 3",
      "language": "python",
      "name": "python3"
    },
    "language_info": {
      "name": "python",
      "version": "3.6.6",
      "mimetype": "text/x-python",
      "codemirror_mode": {
        "name": "ipython",
        "version": 3
      },
      "pygments_lexer": "ipython3",
      "nbconvert_exporter": "python",
      "file_extension": ".py"
    }
  },
  "nbformat": 4,
  "nbformat_minor": 1
}