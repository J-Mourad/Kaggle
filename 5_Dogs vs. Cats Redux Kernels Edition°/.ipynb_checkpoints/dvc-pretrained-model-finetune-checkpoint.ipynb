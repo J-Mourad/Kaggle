{
 "cells": [
  {
   "cell_type": "code",
   "execution_count": 1,
   "metadata": {
    "_cell_guid": "b1076dfc-b9ad-4769-8c92-a6c4dae69d19",
    "_uuid": "8f2839f25d086af736a60e9eeb907d3b93b6e0e5"
   },
   "outputs": [],
   "source": [
    "%matplotlib inline\n",
    "import warnings\n",
    "warnings.filterwarnings('ignore')\n",
    "import os\n",
    "import gc\n",
    "import time\n",
    "import pickle\n",
    "import feather\n",
    "import numpy as np\n",
    "import pandas as pd\n",
    "import seaborn as sns\n",
    "import matplotlib.pyplot as plt\n",
    "from tqdm._tqdm_notebook import tqdm_notebook as tqdm\n",
    "tqdm.pandas()\n",
    "# from tqdm import tqdm\n",
    "\n",
    "# pd.options.display.max_rows = 999\n",
    "# pd.options.display.max_columns = 999\n",
    "import glob\n",
    "def get_path(str, first=True, parent_dir='../input/**/'):\n",
    "    res_li = glob.glob(parent_dir+str)\n",
    "    return res_li[0] if first else res_li"
   ]
  },
  {
   "cell_type": "code",
   "execution_count": 2,
   "metadata": {
    "_cell_guid": "79c7e3d0-c299-4dcb-8224-4455121ee9b0",
    "_uuid": "d629ff2d2480ee46fbb7e2d37f6b5fab8052498a"
   },
   "outputs": [
    {
     "data": {
      "text/html": [
       "<div>\n",
       "<style scoped>\n",
       "    .dataframe tbody tr th:only-of-type {\n",
       "        vertical-align: middle;\n",
       "    }\n",
       "\n",
       "    .dataframe tbody tr th {\n",
       "        vertical-align: top;\n",
       "    }\n",
       "\n",
       "    .dataframe thead th {\n",
       "        text-align: right;\n",
       "    }\n",
       "</style>\n",
       "<table border=\"1\" class=\"dataframe\">\n",
       "  <thead>\n",
       "    <tr style=\"text-align: right;\">\n",
       "      <th></th>\n",
       "      <th>img_id</th>\n",
       "      <th>target</th>\n",
       "      <th>path</th>\n",
       "      <th>is_test</th>\n",
       "      <th>eval_set</th>\n",
       "    </tr>\n",
       "  </thead>\n",
       "  <tbody>\n",
       "    <tr>\n",
       "      <th>0</th>\n",
       "      <td>cat.11679</td>\n",
       "      <td>1</td>\n",
       "      <td>../input/train/cat.11679.jpg</td>\n",
       "      <td>0</td>\n",
       "      <td>1</td>\n",
       "    </tr>\n",
       "    <tr>\n",
       "      <th>1</th>\n",
       "      <td>dog.2811</td>\n",
       "      <td>0</td>\n",
       "      <td>../input/train/dog.2811.jpg</td>\n",
       "      <td>0</td>\n",
       "      <td>3</td>\n",
       "    </tr>\n",
       "    <tr>\n",
       "      <th>2</th>\n",
       "      <td>dog.2578</td>\n",
       "      <td>0</td>\n",
       "      <td>../input/train/dog.2578.jpg</td>\n",
       "      <td>0</td>\n",
       "      <td>3</td>\n",
       "    </tr>\n",
       "    <tr>\n",
       "      <th>3</th>\n",
       "      <td>dog.9238</td>\n",
       "      <td>0</td>\n",
       "      <td>../input/train/dog.9238.jpg</td>\n",
       "      <td>0</td>\n",
       "      <td>1</td>\n",
       "    </tr>\n",
       "    <tr>\n",
       "      <th>4</th>\n",
       "      <td>dog.7504</td>\n",
       "      <td>0</td>\n",
       "      <td>../input/train/dog.7504.jpg</td>\n",
       "      <td>0</td>\n",
       "      <td>1</td>\n",
       "    </tr>\n",
       "  </tbody>\n",
       "</table>\n",
       "</div>"
      ],
      "text/plain": [
       "      img_id  target                          path  is_test  eval_set\n",
       "0  cat.11679       1  ../input/train/cat.11679.jpg        0         1\n",
       "1   dog.2811       0   ../input/train/dog.2811.jpg        0         3\n",
       "2   dog.2578       0   ../input/train/dog.2578.jpg        0         3\n",
       "3   dog.9238       0   ../input/train/dog.9238.jpg        0         1\n",
       "4   dog.7504       0   ../input/train/dog.7504.jpg        0         1"
      ]
     },
     "execution_count": 2,
     "metadata": {},
     "output_type": "execute_result"
    }
   ],
   "source": [
    "DATA_DIR = '../input/dogs-vs-cats-redux-kernels-edition/'\n",
    "evals = pd.read_csv('../input/dvc-prepare-evalset/evals.csv')\n",
    "evals.head()"
   ]
  },
  {
   "cell_type": "code",
   "execution_count": 3,
   "metadata": {
    "_uuid": "052c6b0c7448a11076309913be8f2116d9e3ac3c"
   },
   "outputs": [],
   "source": [
    "H, W, C = 224, 224, 3 #at least 197\n",
    "batch_size = 32\n",
    "eval_batch_size = batch_size * 4"
   ]
  },
  {
   "cell_type": "code",
   "execution_count": 4,
   "metadata": {
    "_uuid": "67431efa32ae1ebe3be5e4e80b6e5d0e005bd0fe"
   },
   "outputs": [
    {
     "name": "stderr",
     "output_type": "stream",
     "text": [
      "Using TensorFlow backend.\n"
     ]
    }
   ],
   "source": [
    "import tensorflow as tf\n",
    "import keras\n",
    "from keras.preprocessing.image import ImageDataGenerator\n",
    "from keras.applications.resnet50 import preprocess_input\n",
    "\n",
    "train_gen = ImageDataGenerator(\n",
    "    rotation_range=20,\n",
    "    #width_shift_range=0.2,\n",
    "    #height_shift_range=0.2,\n",
    "    #channel_shift_range=0.2,\n",
    "    #vertical_flip=True,\n",
    "    shear_range=0.2,\n",
    "    zoom_range=0.2,\n",
    "    horizontal_flip=True,\n",
    "    #rescale=1./255,#!!!!!\n",
    "    preprocessing_function=preprocess_input\n",
    ")\n",
    "test_gen = ImageDataGenerator(\n",
    "    #rescale=1./255,#!!!!!\n",
    "    preprocessing_function=preprocess_input\n",
    ")"
   ]
  },
  {
   "cell_type": "code",
   "execution_count": 5,
   "metadata": {
    "_uuid": "b6578577aa7d1fc4e10b29220b4088c7325e1a7b"
   },
   "outputs": [
    {
     "name": "stdout",
     "output_type": "stream",
     "text": [
      "Found 0 images belonging to 1 classes.\n",
      "Found 0 images belonging to 1 classes.\n",
      "Found 0 images belonging to 1 classes.\n"
     ]
    }
   ],
   "source": [
    "train_flow = train_gen.flow_from_directory(\n",
    "    './', # Empty dir\n",
    "    class_mode=None, \n",
    "    target_size=(H, W),\n",
    "    batch_size=batch_size,\n",
    "    shuffle=True,\n",
    ")\n",
    "valid_flow = test_gen.flow_from_directory(\n",
    "    './', # Empty dir\n",
    "    class_mode=None, \n",
    "    target_size=(H, W),\n",
    "    batch_size=eval_batch_size,\n",
    "    shuffle=False,\n",
    ")\n",
    "test_flow = test_gen.flow_from_directory(\n",
    "    './', # Empty dir\n",
    "    class_mode=None, \n",
    "    target_size=(H, W),\n",
    "    batch_size=eval_batch_size,\n",
    "    shuffle=False,\n",
    ")"
   ]
  },
  {
   "cell_type": "code",
   "execution_count": 6,
   "metadata": {
    "_uuid": "4c8686e961326bc61fe1592c73fa7e0216fcc26a"
   },
   "outputs": [],
   "source": [
    "def set_data_flow(flow, eval_mode, shuffle=True, valid_fold=0, n_valid=128*8, evals=evals):\n",
    "    flow.class_indices = {'dog': 0, 'cat': 1}\n",
    "    if eval_mode=='train':\n",
    "        flow.directory = DATA_DIR+'train'\n",
    "        mask = (evals['is_test']==0) & (evals['eval_set']!=valid_fold)\n",
    "    elif eval_mode=='valid':\n",
    "        shuffle = False\n",
    "        flow.directory = DATA_DIR+'train'\n",
    "        mask = (evals['is_test']==0) & (evals['eval_set']==valid_fold)\n",
    "    elif eval_mode=='test':\n",
    "        shuffle = False\n",
    "        flow.directory = DATA_DIR+'test'\n",
    "        mask = (evals['is_test']==1)\n",
    "    flow.samples = len(evals.loc[mask, 'target'].values) if eval_mode!='valid' else n_valid\n",
    "    flow.n = len(evals.loc[mask, 'target'].values) if eval_mode!='valid' else n_valid\n",
    "    filenames_arr = evals.loc[mask, 'img_id'].apply(lambda x: x+'.jpg').values\n",
    "    target_arr = evals.loc[mask, 'target'].values\n",
    "    if eval_mode=='valid':\n",
    "        filenames_arr = filenames_arr[:n_valid]\n",
    "        target_arr = target_arr[:n_valid]\n",
    "    if shuffle:\n",
    "        indexes = np.arnage(flow.samples)\n",
    "        np.random.permutatione(indexes)\n",
    "        filenames_arr = filenames_arr[indexes]\n",
    "        target_arr = target_arr[indexes]\n",
    "    flow.filenames = filenames_arr.tolist()\n",
    "    flow.classes = target_arr\n",
    "    flow.class_mode = 'binary'\n",
    "    flow.num_classes = len(np.unique(target_arr))\n",
    "    print(f'Found {flow.n} images belonging to {flow.num_classes} classes.')\n",
    "    return flow"
   ]
  },
  {
   "cell_type": "code",
   "execution_count": 7,
   "metadata": {
    "_uuid": "bca91eb0c1c9ed028b411bc9d5b7bfa3ebb94cab"
   },
   "outputs": [
    {
     "name": "stdout",
     "output_type": "stream",
     "text": [
      "Found 1024 images belonging to 2 classes.\n",
      "Found 1024 images belonging to 2 classes.\n",
      "Found 12500 images belonging to 1 classes.\n"
     ]
    }
   ],
   "source": [
    "train_flow = set_data_flow(train_flow, 'valid', valid_fold=0)\n",
    "valid_flow = set_data_flow(valid_flow, 'valid', valid_fold=1)\n",
    "test_flow = set_data_flow(test_flow, 'test', valid_fold=None)"
   ]
  },
  {
   "cell_type": "code",
   "execution_count": 8,
   "metadata": {
    "_uuid": "87633e3d1be62879f08484db548858b93fcd0c49"
   },
   "outputs": [],
   "source": [
    "MODEL_NAME = f'resnet50_weights_tf_dim_ordering_tf_kernels_notop'\n",
    "MODEL_PATH = f'../input/keras-pretrained-models/{MODEL_NAME}.h5'\n",
    "from keras.applications.resnet50 import ResNet50"
   ]
  },
  {
   "cell_type": "code",
   "execution_count": 9,
   "metadata": {
    "_uuid": "31daeaf02f9d51b41441e6a0ae5ff4914dc4938e"
   },
   "outputs": [],
   "source": [
    "def get_pretrained_model(weight_path=MODEL_PATH, trainable=False):\n",
    "    input_shape = (H, W, C)\n",
    "    base_model = ResNet50(weights=None, include_top=False, input_shape=input_shape)\n",
    "    base_model.load_weights(weight_path)\n",
    "    for l in base_model.layers:\n",
    "        l.trainable = trainable\n",
    "    return base_model\n",
    "\n",
    "encoder = get_pretrained_model(weight_path=MODEL_PATH, trainable=False)"
   ]
  },
  {
   "cell_type": "code",
   "execution_count": 10,
   "metadata": {
    "_uuid": "3798de263fe2cad4e8d11fe6fec161c5a52f8e2d"
   },
   "outputs": [],
   "source": [
    "import keras.backend as K\n",
    "from keras.models import Model\n",
    "from keras.callbacks import ModelCheckpoint, LearningRateScheduler, EarlyStopping\n",
    "from keras import optimizers, losses, activations, models\n",
    "from keras.layers import Conv2D, Dense, Input, Flatten, Concatenate, Dropout, Activation\n",
    "from keras.layers import BatchNormalization, MaxPooling2D, GlobalAveragePooling2D\n",
    "from keras import applications"
   ]
  },
  {
   "cell_type": "code",
   "execution_count": 11,
   "metadata": {
    "_kg_hide-output": true,
    "_uuid": "af5cab2e4b56ef25bdb0c0a7e399ae8228e606e5"
   },
   "outputs": [],
   "source": [
    "n_final_state = 32\n",
    "\n",
    "def get_model(encoder, n_final_state, lr=1e-3, decay=1e-8):\n",
    "    input_shape = (H, W, C)\n",
    "    \n",
    "    input_x = encoder.inputs\n",
    "    \n",
    "    x = encoder.output # (None, 1, 1, 2048)\n",
    "    x = Flatten()(x)\n",
    "    \n",
    "    d1 = Dense(\n",
    "        64, activation='relu'\n",
    "    )(x)\n",
    "    #d1 = Dropout(0.5)(d1)\n",
    "    d1 = BatchNormalization()(d1)\n",
    "    \n",
    "    final_state = Dense(\n",
    "        n_final_state, activation='relu', name='final_state'\n",
    "    )(d1)\n",
    "    #x = Dropout(0.5)(final_state)\n",
    "    final_state = BatchNormalization()(final_state)\n",
    "    \n",
    "    outputs = Dense(1, activation='sigmoid')(final_state)\n",
    "    model = Model(inputs=input_x, outputs=outputs)\n",
    "    optimizer=optimizers.Adam(lr=lr, decay=decay)\n",
    "    model.compile(loss='binary_crossentropy', \n",
    "                  optimizer=optimizer,\n",
    "                  metrics=['accuracy'])\n",
    "    return model\n",
    "\n",
    "model = get_model(encoder, n_final_state=n_final_state)"
   ]
  },
  {
   "cell_type": "code",
   "execution_count": 12,
   "metadata": {
    "_kg_hide-output": true,
    "_uuid": "4ea7d2773afceb5c31963e09c06dc129604a6825",
    "scrolled": true
   },
   "outputs": [
    {
     "name": "stdout",
     "output_type": "stream",
     "text": [
      "__________________________________________________________________________________________________\n",
      "Layer (type)                    Output Shape         Param #     Connected to                     \n",
      "==================================================================================================\n",
      "input_1 (InputLayer)            (None, 224, 224, 3)  0                                            \n",
      "__________________________________________________________________________________________________\n",
      "conv1_pad (ZeroPadding2D)       (None, 230, 230, 3)  0           input_1[0][0]                    \n",
      "__________________________________________________________________________________________________\n",
      "conv1 (Conv2D)                  (None, 112, 112, 64) 9472        conv1_pad[0][0]                  \n",
      "__________________________________________________________________________________________________\n",
      "bn_conv1 (BatchNormalization)   (None, 112, 112, 64) 256         conv1[0][0]                      \n",
      "__________________________________________________________________________________________________\n",
      "activation_1 (Activation)       (None, 112, 112, 64) 0           bn_conv1[0][0]                   \n",
      "__________________________________________________________________________________________________\n",
      "pool1_pad (ZeroPadding2D)       (None, 114, 114, 64) 0           activation_1[0][0]               \n",
      "__________________________________________________________________________________________________\n",
      "max_pooling2d_1 (MaxPooling2D)  (None, 56, 56, 64)   0           pool1_pad[0][0]                  \n",
      "__________________________________________________________________________________________________\n",
      "res2a_branch2a (Conv2D)         (None, 56, 56, 64)   4160        max_pooling2d_1[0][0]            \n",
      "__________________________________________________________________________________________________\n",
      "bn2a_branch2a (BatchNormalizati (None, 56, 56, 64)   256         res2a_branch2a[0][0]             \n",
      "__________________________________________________________________________________________________\n",
      "activation_2 (Activation)       (None, 56, 56, 64)   0           bn2a_branch2a[0][0]              \n",
      "__________________________________________________________________________________________________\n",
      "res2a_branch2b (Conv2D)         (None, 56, 56, 64)   36928       activation_2[0][0]               \n",
      "__________________________________________________________________________________________________\n",
      "bn2a_branch2b (BatchNormalizati (None, 56, 56, 64)   256         res2a_branch2b[0][0]             \n",
      "__________________________________________________________________________________________________\n",
      "activation_3 (Activation)       (None, 56, 56, 64)   0           bn2a_branch2b[0][0]              \n",
      "__________________________________________________________________________________________________\n",
      "res2a_branch2c (Conv2D)         (None, 56, 56, 256)  16640       activation_3[0][0]               \n",
      "__________________________________________________________________________________________________\n",
      "res2a_branch1 (Conv2D)          (None, 56, 56, 256)  16640       max_pooling2d_1[0][0]            \n",
      "__________________________________________________________________________________________________\n",
      "bn2a_branch2c (BatchNormalizati (None, 56, 56, 256)  1024        res2a_branch2c[0][0]             \n",
      "__________________________________________________________________________________________________\n",
      "bn2a_branch1 (BatchNormalizatio (None, 56, 56, 256)  1024        res2a_branch1[0][0]              \n",
      "__________________________________________________________________________________________________\n",
      "add_1 (Add)                     (None, 56, 56, 256)  0           bn2a_branch2c[0][0]              \n",
      "                                                                 bn2a_branch1[0][0]               \n",
      "__________________________________________________________________________________________________\n",
      "activation_4 (Activation)       (None, 56, 56, 256)  0           add_1[0][0]                      \n",
      "__________________________________________________________________________________________________\n",
      "res2b_branch2a (Conv2D)         (None, 56, 56, 64)   16448       activation_4[0][0]               \n",
      "__________________________________________________________________________________________________\n",
      "bn2b_branch2a (BatchNormalizati (None, 56, 56, 64)   256         res2b_branch2a[0][0]             \n",
      "__________________________________________________________________________________________________\n",
      "activation_5 (Activation)       (None, 56, 56, 64)   0           bn2b_branch2a[0][0]              \n",
      "__________________________________________________________________________________________________\n",
      "res2b_branch2b (Conv2D)         (None, 56, 56, 64)   36928       activation_5[0][0]               \n",
      "__________________________________________________________________________________________________\n",
      "bn2b_branch2b (BatchNormalizati (None, 56, 56, 64)   256         res2b_branch2b[0][0]             \n",
      "__________________________________________________________________________________________________\n",
      "activation_6 (Activation)       (None, 56, 56, 64)   0           bn2b_branch2b[0][0]              \n",
      "__________________________________________________________________________________________________\n",
      "res2b_branch2c (Conv2D)         (None, 56, 56, 256)  16640       activation_6[0][0]               \n",
      "__________________________________________________________________________________________________\n",
      "bn2b_branch2c (BatchNormalizati (None, 56, 56, 256)  1024        res2b_branch2c[0][0]             \n",
      "__________________________________________________________________________________________________\n",
      "add_2 (Add)                     (None, 56, 56, 256)  0           bn2b_branch2c[0][0]              \n",
      "                                                                 activation_4[0][0]               \n",
      "__________________________________________________________________________________________________\n",
      "activation_7 (Activation)       (None, 56, 56, 256)  0           add_2[0][0]                      \n",
      "__________________________________________________________________________________________________\n",
      "res2c_branch2a (Conv2D)         (None, 56, 56, 64)   16448       activation_7[0][0]               \n",
      "__________________________________________________________________________________________________\n",
      "bn2c_branch2a (BatchNormalizati (None, 56, 56, 64)   256         res2c_branch2a[0][0]             \n",
      "__________________________________________________________________________________________________\n",
      "activation_8 (Activation)       (None, 56, 56, 64)   0           bn2c_branch2a[0][0]              \n",
      "__________________________________________________________________________________________________\n",
      "res2c_branch2b (Conv2D)         (None, 56, 56, 64)   36928       activation_8[0][0]               \n",
      "__________________________________________________________________________________________________\n",
      "bn2c_branch2b (BatchNormalizati (None, 56, 56, 64)   256         res2c_branch2b[0][0]             \n",
      "__________________________________________________________________________________________________\n",
      "activation_9 (Activation)       (None, 56, 56, 64)   0           bn2c_branch2b[0][0]              \n",
      "__________________________________________________________________________________________________\n",
      "res2c_branch2c (Conv2D)         (None, 56, 56, 256)  16640       activation_9[0][0]               \n",
      "__________________________________________________________________________________________________\n",
      "bn2c_branch2c (BatchNormalizati (None, 56, 56, 256)  1024        res2c_branch2c[0][0]             \n",
      "__________________________________________________________________________________________________\n",
      "add_3 (Add)                     (None, 56, 56, 256)  0           bn2c_branch2c[0][0]              \n",
      "                                                                 activation_7[0][0]               \n",
      "__________________________________________________________________________________________________\n",
      "activation_10 (Activation)      (None, 56, 56, 256)  0           add_3[0][0]                      \n",
      "__________________________________________________________________________________________________\n",
      "res3a_branch2a (Conv2D)         (None, 28, 28, 128)  32896       activation_10[0][0]              \n",
      "__________________________________________________________________________________________________\n",
      "bn3a_branch2a (BatchNormalizati (None, 28, 28, 128)  512         res3a_branch2a[0][0]             \n",
      "__________________________________________________________________________________________________\n",
      "activation_11 (Activation)      (None, 28, 28, 128)  0           bn3a_branch2a[0][0]              \n",
      "__________________________________________________________________________________________________\n",
      "res3a_branch2b (Conv2D)         (None, 28, 28, 128)  147584      activation_11[0][0]              \n",
      "__________________________________________________________________________________________________\n",
      "bn3a_branch2b (BatchNormalizati (None, 28, 28, 128)  512         res3a_branch2b[0][0]             \n",
      "__________________________________________________________________________________________________\n",
      "activation_12 (Activation)      (None, 28, 28, 128)  0           bn3a_branch2b[0][0]              \n",
      "__________________________________________________________________________________________________\n",
      "res3a_branch2c (Conv2D)         (None, 28, 28, 512)  66048       activation_12[0][0]              \n",
      "__________________________________________________________________________________________________\n",
      "res3a_branch1 (Conv2D)          (None, 28, 28, 512)  131584      activation_10[0][0]              \n",
      "__________________________________________________________________________________________________\n",
      "bn3a_branch2c (BatchNormalizati (None, 28, 28, 512)  2048        res3a_branch2c[0][0]             \n",
      "__________________________________________________________________________________________________\n",
      "bn3a_branch1 (BatchNormalizatio (None, 28, 28, 512)  2048        res3a_branch1[0][0]              \n",
      "__________________________________________________________________________________________________\n",
      "add_4 (Add)                     (None, 28, 28, 512)  0           bn3a_branch2c[0][0]              \n",
      "                                                                 bn3a_branch1[0][0]               \n",
      "__________________________________________________________________________________________________\n",
      "activation_13 (Activation)      (None, 28, 28, 512)  0           add_4[0][0]                      \n",
      "__________________________________________________________________________________________________\n",
      "res3b_branch2a (Conv2D)         (None, 28, 28, 128)  65664       activation_13[0][0]              \n",
      "__________________________________________________________________________________________________\n",
      "bn3b_branch2a (BatchNormalizati (None, 28, 28, 128)  512         res3b_branch2a[0][0]             \n",
      "__________________________________________________________________________________________________\n",
      "activation_14 (Activation)      (None, 28, 28, 128)  0           bn3b_branch2a[0][0]              \n",
      "__________________________________________________________________________________________________\n",
      "res3b_branch2b (Conv2D)         (None, 28, 28, 128)  147584      activation_14[0][0]              \n",
      "__________________________________________________________________________________________________\n",
      "bn3b_branch2b (BatchNormalizati (None, 28, 28, 128)  512         res3b_branch2b[0][0]             \n",
      "__________________________________________________________________________________________________\n",
      "activation_15 (Activation)      (None, 28, 28, 128)  0           bn3b_branch2b[0][0]              \n",
      "__________________________________________________________________________________________________\n",
      "res3b_branch2c (Conv2D)         (None, 28, 28, 512)  66048       activation_15[0][0]              \n",
      "__________________________________________________________________________________________________\n",
      "bn3b_branch2c (BatchNormalizati (None, 28, 28, 512)  2048        res3b_branch2c[0][0]             \n",
      "__________________________________________________________________________________________________\n",
      "add_5 (Add)                     (None, 28, 28, 512)  0           bn3b_branch2c[0][0]              \n",
      "                                                                 activation_13[0][0]              \n",
      "__________________________________________________________________________________________________\n",
      "activation_16 (Activation)      (None, 28, 28, 512)  0           add_5[0][0]                      \n",
      "__________________________________________________________________________________________________\n",
      "res3c_branch2a (Conv2D)         (None, 28, 28, 128)  65664       activation_16[0][0]              \n",
      "__________________________________________________________________________________________________\n",
      "bn3c_branch2a (BatchNormalizati (None, 28, 28, 128)  512         res3c_branch2a[0][0]             \n",
      "__________________________________________________________________________________________________\n",
      "activation_17 (Activation)      (None, 28, 28, 128)  0           bn3c_branch2a[0][0]              \n",
      "__________________________________________________________________________________________________\n",
      "res3c_branch2b (Conv2D)         (None, 28, 28, 128)  147584      activation_17[0][0]              \n",
      "__________________________________________________________________________________________________\n",
      "bn3c_branch2b (BatchNormalizati (None, 28, 28, 128)  512         res3c_branch2b[0][0]             \n",
      "__________________________________________________________________________________________________\n",
      "activation_18 (Activation)      (None, 28, 28, 128)  0           bn3c_branch2b[0][0]              \n",
      "__________________________________________________________________________________________________\n",
      "res3c_branch2c (Conv2D)         (None, 28, 28, 512)  66048       activation_18[0][0]              \n",
      "__________________________________________________________________________________________________\n",
      "bn3c_branch2c (BatchNormalizati (None, 28, 28, 512)  2048        res3c_branch2c[0][0]             \n",
      "__________________________________________________________________________________________________\n",
      "add_6 (Add)                     (None, 28, 28, 512)  0           bn3c_branch2c[0][0]              \n",
      "                                                                 activation_16[0][0]              \n",
      "__________________________________________________________________________________________________\n",
      "activation_19 (Activation)      (None, 28, 28, 512)  0           add_6[0][0]                      \n",
      "__________________________________________________________________________________________________\n",
      "res3d_branch2a (Conv2D)         (None, 28, 28, 128)  65664       activation_19[0][0]              \n",
      "__________________________________________________________________________________________________\n",
      "bn3d_branch2a (BatchNormalizati (None, 28, 28, 128)  512         res3d_branch2a[0][0]             \n",
      "__________________________________________________________________________________________________\n",
      "activation_20 (Activation)      (None, 28, 28, 128)  0           bn3d_branch2a[0][0]              \n",
      "__________________________________________________________________________________________________\n",
      "res3d_branch2b (Conv2D)         (None, 28, 28, 128)  147584      activation_20[0][0]              \n",
      "__________________________________________________________________________________________________\n",
      "bn3d_branch2b (BatchNormalizati (None, 28, 28, 128)  512         res3d_branch2b[0][0]             \n",
      "__________________________________________________________________________________________________\n",
      "activation_21 (Activation)      (None, 28, 28, 128)  0           bn3d_branch2b[0][0]              \n",
      "__________________________________________________________________________________________________\n",
      "res3d_branch2c (Conv2D)         (None, 28, 28, 512)  66048       activation_21[0][0]              \n",
      "__________________________________________________________________________________________________\n",
      "bn3d_branch2c (BatchNormalizati (None, 28, 28, 512)  2048        res3d_branch2c[0][0]             \n",
      "__________________________________________________________________________________________________\n",
      "add_7 (Add)                     (None, 28, 28, 512)  0           bn3d_branch2c[0][0]              \n",
      "                                                                 activation_19[0][0]              \n",
      "__________________________________________________________________________________________________\n",
      "activation_22 (Activation)      (None, 28, 28, 512)  0           add_7[0][0]                      \n",
      "__________________________________________________________________________________________________\n",
      "res4a_branch2a (Conv2D)         (None, 14, 14, 256)  131328      activation_22[0][0]              \n",
      "__________________________________________________________________________________________________\n",
      "bn4a_branch2a (BatchNormalizati (None, 14, 14, 256)  1024        res4a_branch2a[0][0]             \n",
      "__________________________________________________________________________________________________\n",
      "activation_23 (Activation)      (None, 14, 14, 256)  0           bn4a_branch2a[0][0]              \n",
      "__________________________________________________________________________________________________\n",
      "res4a_branch2b (Conv2D)         (None, 14, 14, 256)  590080      activation_23[0][0]              \n",
      "__________________________________________________________________________________________________\n",
      "bn4a_branch2b (BatchNormalizati (None, 14, 14, 256)  1024        res4a_branch2b[0][0]             \n",
      "__________________________________________________________________________________________________\n",
      "activation_24 (Activation)      (None, 14, 14, 256)  0           bn4a_branch2b[0][0]              \n",
      "__________________________________________________________________________________________________\n",
      "res4a_branch2c (Conv2D)         (None, 14, 14, 1024) 263168      activation_24[0][0]              \n",
      "__________________________________________________________________________________________________\n",
      "res4a_branch1 (Conv2D)          (None, 14, 14, 1024) 525312      activation_22[0][0]              \n",
      "__________________________________________________________________________________________________\n",
      "bn4a_branch2c (BatchNormalizati (None, 14, 14, 1024) 4096        res4a_branch2c[0][0]             \n",
      "__________________________________________________________________________________________________\n",
      "bn4a_branch1 (BatchNormalizatio (None, 14, 14, 1024) 4096        res4a_branch1[0][0]              \n",
      "__________________________________________________________________________________________________\n",
      "add_8 (Add)                     (None, 14, 14, 1024) 0           bn4a_branch2c[0][0]              \n",
      "                                                                 bn4a_branch1[0][0]               \n",
      "__________________________________________________________________________________________________\n",
      "activation_25 (Activation)      (None, 14, 14, 1024) 0           add_8[0][0]                      \n",
      "__________________________________________________________________________________________________\n",
      "res4b_branch2a (Conv2D)         (None, 14, 14, 256)  262400      activation_25[0][0]              \n",
      "__________________________________________________________________________________________________\n",
      "bn4b_branch2a (BatchNormalizati (None, 14, 14, 256)  1024        res4b_branch2a[0][0]             \n",
      "__________________________________________________________________________________________________\n",
      "activation_26 (Activation)      (None, 14, 14, 256)  0           bn4b_branch2a[0][0]              \n",
      "__________________________________________________________________________________________________\n",
      "res4b_branch2b (Conv2D)         (None, 14, 14, 256)  590080      activation_26[0][0]              \n",
      "__________________________________________________________________________________________________\n",
      "bn4b_branch2b (BatchNormalizati (None, 14, 14, 256)  1024        res4b_branch2b[0][0]             \n",
      "__________________________________________________________________________________________________\n",
      "activation_27 (Activation)      (None, 14, 14, 256)  0           bn4b_branch2b[0][0]              \n",
      "__________________________________________________________________________________________________\n",
      "res4b_branch2c (Conv2D)         (None, 14, 14, 1024) 263168      activation_27[0][0]              \n",
      "__________________________________________________________________________________________________\n",
      "bn4b_branch2c (BatchNormalizati (None, 14, 14, 1024) 4096        res4b_branch2c[0][0]             \n",
      "__________________________________________________________________________________________________\n",
      "add_9 (Add)                     (None, 14, 14, 1024) 0           bn4b_branch2c[0][0]              \n",
      "                                                                 activation_25[0][0]              \n",
      "__________________________________________________________________________________________________\n",
      "activation_28 (Activation)      (None, 14, 14, 1024) 0           add_9[0][0]                      \n",
      "__________________________________________________________________________________________________\n",
      "res4c_branch2a (Conv2D)         (None, 14, 14, 256)  262400      activation_28[0][0]              \n",
      "__________________________________________________________________________________________________\n",
      "bn4c_branch2a (BatchNormalizati (None, 14, 14, 256)  1024        res4c_branch2a[0][0]             \n",
      "__________________________________________________________________________________________________\n",
      "activation_29 (Activation)      (None, 14, 14, 256)  0           bn4c_branch2a[0][0]              \n",
      "__________________________________________________________________________________________________\n",
      "res4c_branch2b (Conv2D)         (None, 14, 14, 256)  590080      activation_29[0][0]              \n",
      "__________________________________________________________________________________________________\n",
      "bn4c_branch2b (BatchNormalizati (None, 14, 14, 256)  1024        res4c_branch2b[0][0]             \n",
      "__________________________________________________________________________________________________\n",
      "activation_30 (Activation)      (None, 14, 14, 256)  0           bn4c_branch2b[0][0]              \n",
      "__________________________________________________________________________________________________\n",
      "res4c_branch2c (Conv2D)         (None, 14, 14, 1024) 263168      activation_30[0][0]              \n",
      "__________________________________________________________________________________________________\n",
      "bn4c_branch2c (BatchNormalizati (None, 14, 14, 1024) 4096        res4c_branch2c[0][0]             \n",
      "__________________________________________________________________________________________________\n",
      "add_10 (Add)                    (None, 14, 14, 1024) 0           bn4c_branch2c[0][0]              \n",
      "                                                                 activation_28[0][0]              \n",
      "__________________________________________________________________________________________________\n",
      "activation_31 (Activation)      (None, 14, 14, 1024) 0           add_10[0][0]                     \n",
      "__________________________________________________________________________________________________\n",
      "res4d_branch2a (Conv2D)         (None, 14, 14, 256)  262400      activation_31[0][0]              \n",
      "__________________________________________________________________________________________________\n",
      "bn4d_branch2a (BatchNormalizati (None, 14, 14, 256)  1024        res4d_branch2a[0][0]             \n",
      "__________________________________________________________________________________________________\n",
      "activation_32 (Activation)      (None, 14, 14, 256)  0           bn4d_branch2a[0][0]              \n",
      "__________________________________________________________________________________________________\n",
      "res4d_branch2b (Conv2D)         (None, 14, 14, 256)  590080      activation_32[0][0]              \n",
      "__________________________________________________________________________________________________\n",
      "bn4d_branch2b (BatchNormalizati (None, 14, 14, 256)  1024        res4d_branch2b[0][0]             \n",
      "__________________________________________________________________________________________________\n",
      "activation_33 (Activation)      (None, 14, 14, 256)  0           bn4d_branch2b[0][0]              \n",
      "__________________________________________________________________________________________________\n",
      "res4d_branch2c (Conv2D)         (None, 14, 14, 1024) 263168      activation_33[0][0]              \n",
      "__________________________________________________________________________________________________\n",
      "bn4d_branch2c (BatchNormalizati (None, 14, 14, 1024) 4096        res4d_branch2c[0][0]             \n",
      "__________________________________________________________________________________________________\n",
      "add_11 (Add)                    (None, 14, 14, 1024) 0           bn4d_branch2c[0][0]              \n",
      "                                                                 activation_31[0][0]              \n",
      "__________________________________________________________________________________________________\n",
      "activation_34 (Activation)      (None, 14, 14, 1024) 0           add_11[0][0]                     \n",
      "__________________________________________________________________________________________________\n",
      "res4e_branch2a (Conv2D)         (None, 14, 14, 256)  262400      activation_34[0][0]              \n",
      "__________________________________________________________________________________________________\n",
      "bn4e_branch2a (BatchNormalizati (None, 14, 14, 256)  1024        res4e_branch2a[0][0]             \n",
      "__________________________________________________________________________________________________\n",
      "activation_35 (Activation)      (None, 14, 14, 256)  0           bn4e_branch2a[0][0]              \n",
      "__________________________________________________________________________________________________\n",
      "res4e_branch2b (Conv2D)         (None, 14, 14, 256)  590080      activation_35[0][0]              \n",
      "__________________________________________________________________________________________________\n",
      "bn4e_branch2b (BatchNormalizati (None, 14, 14, 256)  1024        res4e_branch2b[0][0]             \n",
      "__________________________________________________________________________________________________\n",
      "activation_36 (Activation)      (None, 14, 14, 256)  0           bn4e_branch2b[0][0]              \n",
      "__________________________________________________________________________________________________\n",
      "res4e_branch2c (Conv2D)         (None, 14, 14, 1024) 263168      activation_36[0][0]              \n",
      "__________________________________________________________________________________________________\n",
      "bn4e_branch2c (BatchNormalizati (None, 14, 14, 1024) 4096        res4e_branch2c[0][0]             \n",
      "__________________________________________________________________________________________________\n",
      "add_12 (Add)                    (None, 14, 14, 1024) 0           bn4e_branch2c[0][0]              \n",
      "                                                                 activation_34[0][0]              \n",
      "__________________________________________________________________________________________________\n",
      "activation_37 (Activation)      (None, 14, 14, 1024) 0           add_12[0][0]                     \n",
      "__________________________________________________________________________________________________\n",
      "res4f_branch2a (Conv2D)         (None, 14, 14, 256)  262400      activation_37[0][0]              \n",
      "__________________________________________________________________________________________________\n",
      "bn4f_branch2a (BatchNormalizati (None, 14, 14, 256)  1024        res4f_branch2a[0][0]             \n",
      "__________________________________________________________________________________________________\n",
      "activation_38 (Activation)      (None, 14, 14, 256)  0           bn4f_branch2a[0][0]              \n",
      "__________________________________________________________________________________________________\n",
      "res4f_branch2b (Conv2D)         (None, 14, 14, 256)  590080      activation_38[0][0]              \n",
      "__________________________________________________________________________________________________\n",
      "bn4f_branch2b (BatchNormalizati (None, 14, 14, 256)  1024        res4f_branch2b[0][0]             \n",
      "__________________________________________________________________________________________________\n",
      "activation_39 (Activation)      (None, 14, 14, 256)  0           bn4f_branch2b[0][0]              \n",
      "__________________________________________________________________________________________________\n",
      "res4f_branch2c (Conv2D)         (None, 14, 14, 1024) 263168      activation_39[0][0]              \n",
      "__________________________________________________________________________________________________\n",
      "bn4f_branch2c (BatchNormalizati (None, 14, 14, 1024) 4096        res4f_branch2c[0][0]             \n",
      "__________________________________________________________________________________________________\n",
      "add_13 (Add)                    (None, 14, 14, 1024) 0           bn4f_branch2c[0][0]              \n",
      "                                                                 activation_37[0][0]              \n",
      "__________________________________________________________________________________________________\n",
      "activation_40 (Activation)      (None, 14, 14, 1024) 0           add_13[0][0]                     \n",
      "__________________________________________________________________________________________________\n",
      "res5a_branch2a (Conv2D)         (None, 7, 7, 512)    524800      activation_40[0][0]              \n",
      "__________________________________________________________________________________________________\n",
      "bn5a_branch2a (BatchNormalizati (None, 7, 7, 512)    2048        res5a_branch2a[0][0]             \n",
      "__________________________________________________________________________________________________\n",
      "activation_41 (Activation)      (None, 7, 7, 512)    0           bn5a_branch2a[0][0]              \n",
      "__________________________________________________________________________________________________\n",
      "res5a_branch2b (Conv2D)         (None, 7, 7, 512)    2359808     activation_41[0][0]              \n",
      "__________________________________________________________________________________________________\n",
      "bn5a_branch2b (BatchNormalizati (None, 7, 7, 512)    2048        res5a_branch2b[0][0]             \n",
      "__________________________________________________________________________________________________\n",
      "activation_42 (Activation)      (None, 7, 7, 512)    0           bn5a_branch2b[0][0]              \n",
      "__________________________________________________________________________________________________\n",
      "res5a_branch2c (Conv2D)         (None, 7, 7, 2048)   1050624     activation_42[0][0]              \n",
      "__________________________________________________________________________________________________\n",
      "res5a_branch1 (Conv2D)          (None, 7, 7, 2048)   2099200     activation_40[0][0]              \n",
      "__________________________________________________________________________________________________\n",
      "bn5a_branch2c (BatchNormalizati (None, 7, 7, 2048)   8192        res5a_branch2c[0][0]             \n",
      "__________________________________________________________________________________________________\n",
      "bn5a_branch1 (BatchNormalizatio (None, 7, 7, 2048)   8192        res5a_branch1[0][0]              \n",
      "__________________________________________________________________________________________________\n",
      "add_14 (Add)                    (None, 7, 7, 2048)   0           bn5a_branch2c[0][0]              \n",
      "                                                                 bn5a_branch1[0][0]               \n",
      "__________________________________________________________________________________________________\n",
      "activation_43 (Activation)      (None, 7, 7, 2048)   0           add_14[0][0]                     \n",
      "__________________________________________________________________________________________________\n",
      "res5b_branch2a (Conv2D)         (None, 7, 7, 512)    1049088     activation_43[0][0]              \n",
      "__________________________________________________________________________________________________\n",
      "bn5b_branch2a (BatchNormalizati (None, 7, 7, 512)    2048        res5b_branch2a[0][0]             \n",
      "__________________________________________________________________________________________________\n",
      "activation_44 (Activation)      (None, 7, 7, 512)    0           bn5b_branch2a[0][0]              \n",
      "__________________________________________________________________________________________________\n",
      "res5b_branch2b (Conv2D)         (None, 7, 7, 512)    2359808     activation_44[0][0]              \n",
      "__________________________________________________________________________________________________\n",
      "bn5b_branch2b (BatchNormalizati (None, 7, 7, 512)    2048        res5b_branch2b[0][0]             \n",
      "__________________________________________________________________________________________________\n",
      "activation_45 (Activation)      (None, 7, 7, 512)    0           bn5b_branch2b[0][0]              \n",
      "__________________________________________________________________________________________________\n",
      "res5b_branch2c (Conv2D)         (None, 7, 7, 2048)   1050624     activation_45[0][0]              \n",
      "__________________________________________________________________________________________________\n",
      "bn5b_branch2c (BatchNormalizati (None, 7, 7, 2048)   8192        res5b_branch2c[0][0]             \n",
      "__________________________________________________________________________________________________\n",
      "add_15 (Add)                    (None, 7, 7, 2048)   0           bn5b_branch2c[0][0]              \n",
      "                                                                 activation_43[0][0]              \n",
      "__________________________________________________________________________________________________\n",
      "activation_46 (Activation)      (None, 7, 7, 2048)   0           add_15[0][0]                     \n",
      "__________________________________________________________________________________________________\n",
      "res5c_branch2a (Conv2D)         (None, 7, 7, 512)    1049088     activation_46[0][0]              \n",
      "__________________________________________________________________________________________________\n",
      "bn5c_branch2a (BatchNormalizati (None, 7, 7, 512)    2048        res5c_branch2a[0][0]             \n",
      "__________________________________________________________________________________________________\n",
      "activation_47 (Activation)      (None, 7, 7, 512)    0           bn5c_branch2a[0][0]              \n",
      "__________________________________________________________________________________________________\n",
      "res5c_branch2b (Conv2D)         (None, 7, 7, 512)    2359808     activation_47[0][0]              \n",
      "__________________________________________________________________________________________________\n",
      "bn5c_branch2b (BatchNormalizati (None, 7, 7, 512)    2048        res5c_branch2b[0][0]             \n",
      "__________________________________________________________________________________________________\n",
      "activation_48 (Activation)      (None, 7, 7, 512)    0           bn5c_branch2b[0][0]              \n",
      "__________________________________________________________________________________________________\n",
      "res5c_branch2c (Conv2D)         (None, 7, 7, 2048)   1050624     activation_48[0][0]              \n",
      "__________________________________________________________________________________________________\n",
      "bn5c_branch2c (BatchNormalizati (None, 7, 7, 2048)   8192        res5c_branch2c[0][0]             \n",
      "__________________________________________________________________________________________________\n",
      "add_16 (Add)                    (None, 7, 7, 2048)   0           bn5c_branch2c[0][0]              \n",
      "                                                                 activation_46[0][0]              \n",
      "__________________________________________________________________________________________________\n",
      "activation_49 (Activation)      (None, 7, 7, 2048)   0           add_16[0][0]                     \n",
      "__________________________________________________________________________________________________\n",
      "flatten_1 (Flatten)             (None, 100352)       0           activation_49[0][0]              \n",
      "__________________________________________________________________________________________________\n",
      "dense_1 (Dense)                 (None, 64)           6422592     flatten_1[0][0]                  \n",
      "__________________________________________________________________________________________________\n",
      "batch_normalization_1 (BatchNor (None, 64)           256         dense_1[0][0]                    \n",
      "__________________________________________________________________________________________________\n",
      "final_state (Dense)             (None, 32)           2080        batch_normalization_1[0][0]      \n",
      "__________________________________________________________________________________________________\n",
      "batch_normalization_2 (BatchNor (None, 32)           128         final_state[0][0]                \n",
      "__________________________________________________________________________________________________\n",
      "dense_2 (Dense)                 (None, 1)            33          batch_normalization_2[0][0]      \n",
      "==================================================================================================\n",
      "Total params: 30,012,801\n",
      "Trainable params: 6,424,897\n",
      "Non-trainable params: 23,587,904\n",
      "__________________________________________________________________________________________________\n"
     ]
    }
   ],
   "source": [
    "model.summary()"
   ]
  },
  {
   "cell_type": "code",
   "execution_count": 13,
   "metadata": {
    "_uuid": "74a7c318217e7fd803f957c2a2b30afe5f5e8ceb"
   },
   "outputs": [
    {
     "name": "stdout",
     "output_type": "stream",
     "text": [
      "flatten_1\n",
      "dense_1\n",
      "batch_normalization_1\n",
      "final_state\n",
      "batch_normalization_2\n",
      "dense_2\n"
     ]
    }
   ],
   "source": [
    "for l in model.layers:\n",
    "    if l.trainable:\n",
    "        print(l.name)"
   ]
  },
  {
   "cell_type": "code",
   "execution_count": 14,
   "metadata": {
    "_uuid": "19a1e9fae25cd5e012d1814db7f720f2375aa504"
   },
   "outputs": [],
   "source": [
    "train_steps = int(np.ceil(train_flow.n / batch_size))\n",
    "valid_steps = int(np.ceil(valid_flow.n / eval_batch_size))\n",
    "test_steps = int(np.ceil(test_flow.n / eval_batch_size))"
   ]
  },
  {
   "cell_type": "code",
   "execution_count": 15,
   "metadata": {
    "_kg_hide-output": true,
    "_uuid": "7fbb0a70d7cff24f0a718562e18896597913899c",
    "scrolled": false
   },
   "outputs": [
    {
     "name": "stdout",
     "output_type": "stream",
     "text": [
      "BATCH_SIZE: 32 EPOCHS: 10\n",
      "train 32 steps\n",
      "valid 8 steps\n",
      "test 98 steps\n",
      "Epoch 1/10\n",
      "32/32 [==============================] - 38s 1s/step - loss: 0.2819 - acc: 0.8750 - val_loss: 0.0879 - val_acc: 0.9678\n",
      "\n",
      "Epoch 00001: val_loss improved from inf to 0.08792, saving model to model.h5\n",
      "Epoch 2/10\n",
      "32/32 [==============================] - 21s 655ms/step - loss: 0.1132 - acc: 0.9756 - val_loss: 0.0734 - val_acc: 0.9746\n",
      "\n",
      "Epoch 00002: val_loss improved from 0.08792 to 0.07336, saving model to model.h5\n",
      "Epoch 3/10\n",
      "32/32 [==============================] - 22s 675ms/step - loss: 0.0815 - acc: 0.9863 - val_loss: 0.0742 - val_acc: 0.9775\n",
      "\n",
      "Epoch 00003: val_loss did not improve from 0.07336\n",
      "Epoch 4/10\n",
      "32/32 [==============================] - 22s 680ms/step - loss: 0.0699 - acc: 0.9863 - val_loss: 0.0654 - val_acc: 0.9756\n",
      "\n",
      "Epoch 00004: val_loss improved from 0.07336 to 0.06540, saving model to model.h5\n",
      "Epoch 5/10\n",
      "32/32 [==============================] - 22s 677ms/step - loss: 0.0470 - acc: 0.9990 - val_loss: 0.0501 - val_acc: 0.9844\n",
      "\n",
      "Epoch 00005: val_loss improved from 0.06540 to 0.05011, saving model to model.h5\n",
      "Epoch 6/10\n",
      "32/32 [==============================] - 22s 681ms/step - loss: 0.0463 - acc: 0.9932 - val_loss: 0.0615 - val_acc: 0.9775\n",
      "\n",
      "Epoch 00006: val_loss did not improve from 0.05011\n",
      "Epoch 7/10\n",
      "32/32 [==============================] - 22s 683ms/step - loss: 0.0362 - acc: 0.9990 - val_loss: 0.0847 - val_acc: 0.9678\n",
      "\n",
      "Epoch 00007: val_loss did not improve from 0.05011\n",
      "Epoch 8/10\n",
      "32/32 [==============================] - 22s 688ms/step - loss: 0.0401 - acc: 0.9922 - val_loss: 0.0655 - val_acc: 0.9785\n",
      "\n",
      "Epoch 00008: val_loss did not improve from 0.05011\n",
      "Epoch 9/10\n",
      "32/32 [==============================] - 22s 689ms/step - loss: 0.0368 - acc: 0.9941 - val_loss: 0.0717 - val_acc: 0.9736\n",
      "\n",
      "Epoch 00009: val_loss did not improve from 0.05011\n",
      "Epoch 10/10\n",
      "32/32 [==============================] - 22s 688ms/step - loss: 0.0456 - acc: 0.9912 - val_loss: 0.0508 - val_acc: 0.9834\n",
      "\n",
      "Epoch 00010: val_loss did not improve from 0.05011\n"
     ]
    }
   ],
   "source": [
    "epochs = 10\n",
    "\n",
    "print('BATCH_SIZE: {} EPOCHS: {}'.format(batch_size, epochs))\n",
    "print(f'train {train_steps} steps')\n",
    "print(f'valid {valid_steps} steps')\n",
    "print(f'test {test_steps} steps')\n",
    "\n",
    "file_path='model.h5'\n",
    "checkpoint = ModelCheckpoint(\n",
    "    file_path, monitor='val_loss', verbose=1, \n",
    "    save_best_only=True, \n",
    "    save_weights_only=True,\n",
    "    mode='min'\n",
    ")\n",
    "early = EarlyStopping(monitor='val_loss', mode='min', patience=30)\n",
    "callbacks_list = [checkpoint, early]\n",
    "\n",
    "K.set_value(model.optimizer.lr, 0.0001)\n",
    "\n",
    "gc.collect();\n",
    "history = model.fit_generator(\n",
    "    generator=train_flow, \n",
    "    steps_per_epoch=train_steps,\n",
    "    validation_data=valid_flow,\n",
    "    validation_steps=valid_steps,\n",
    "    epochs=epochs, \n",
    "    shuffle=False,\n",
    "    verbose=1,\n",
    "    callbacks=callbacks_list\n",
    ")"
   ]
  },
  {
   "cell_type": "code",
   "execution_count": 16,
   "metadata": {
    "_uuid": "b41b9e2cb3ecdc32cba5830389f0f69f25abc940"
   },
   "outputs": [
    {
     "data": {
      "image/png": "[encoded data removed]",
      "text/plain": [
       "<Figure size 1296x288 with 1 Axes>"
      ]
     },
     "metadata": {
      "needs_background": "light"
     },
     "output_type": "display_data"
    },
    {
     "data": {
      "image/png": "[encoded data removed]",
      "text/plain": [
       "<Figure size 1296x288 with 1 Axes>"
      ]
     },
     "metadata": {
      "needs_background": "light"
     },
     "output_type": "display_data"
    }
   ],
   "source": [
    "eval_res = pd.DataFrame(history.history)\n",
    "eval_res.to_csv('eval_res_init.csv', index=False)\n",
    "for c in ['acc', 'loss']:\n",
    "    eval_res[[c, f'val_{c}']].plot(figsize=[18, 4]);\n",
    "    plt.xlabel('Epoch'); plt.ylabel(c);\n",
    "    plt.title(c); plt.grid();"
   ]
  },
  {
   "cell_type": "code",
   "execution_count": 17,
   "metadata": {
    "_uuid": "6d0ceae68672e7bae5445e26f90794ecb7a2a0f9"
   },
   "outputs": [],
   "source": [
    "model.load_weights('model.h5')"
   ]
  },
  {
   "cell_type": "code",
   "execution_count": 18,
   "metadata": {
    "_uuid": "b4548605e3e29db2ebd1f001406dd12ed1d4dadd"
   },
   "outputs": [
    {
     "name": "stdout",
     "output_type": "stream",
     "text": [
      "encoder totally 175 layers\n",
      "model totally 181 layers\n",
      "encoder last 5 layers: ['activation_49', 'add_16', 'bn5c_branch2c', 'res5c_branch2c', 'activation_48']\n"
     ]
    }
   ],
   "source": [
    "print(f'encoder totally {len(encoder.layers)} layers')\n",
    "print(f'model totally {len(model.layers)} layers')\n",
    "last_5_layer_names = [_.name for _ in encoder.layers[::-1][:5]]\n",
    "print('encoder last 5 layers:', last_5_layer_names)"
   ]
  },
  {
   "cell_type": "code",
   "execution_count": 19,
   "metadata": {
    "_uuid": "13d23e4e8bdd596b49d1a5e655531030030c49c4"
   },
   "outputs": [
    {
     "name": "stdout",
     "output_type": "stream",
     "text": [
      "Fine-tune activation_49\n",
      "Fine-tune add_16\n",
      "Fine-tune bn5c_branch2c\n",
      "Fine-tune res5c_branch2c\n",
      "Fine-tune activation_48\n",
      "Fine-tune bn5c_branch2b\n"
     ]
    }
   ],
   "source": [
    "for l in model.layers[::-1][6:12]:\n",
    "    print('Fine-tune', l.name) #, l.trainable\n",
    "    l.trainable = True"
   ]
  },
  {
   "cell_type": "code",
   "execution_count": 20,
   "metadata": {
    "_uuid": "0ebdb1ad85905dde2507b1ec05714fb3b46ea004"
   },
   "outputs": [
    {
     "name": "stdout",
     "output_type": "stream",
     "text": [
      "BATCH_SIZE: 32 EPOCHS: 15\n",
      "train 32 steps\n",
      "valid 8 steps\n",
      "test 98 steps\n",
      "Epoch 1/15\n",
      "32/32 [==============================] - 29s 893ms/step - loss: 0.0438 - acc: 0.9941 - val_loss: 0.0597 - val_acc: 0.9805\n",
      "\n",
      "Epoch 00001: val_loss improved from inf to 0.05966, saving model to model.h5\n",
      "Epoch 2/15\n",
      "32/32 [==============================] - 21s 666ms/step - loss: 0.0365 - acc: 0.9980 - val_loss: 0.0623 - val_acc: 0.9805\n",
      "\n",
      "Epoch 00002: val_loss did not improve from 0.05966\n",
      "Epoch 3/15\n",
      "32/32 [==============================] - 22s 672ms/step - loss: 0.0400 - acc: 0.9971 - val_loss: 0.0629 - val_acc: 0.9795\n",
      "\n",
      "Epoch 00003: val_loss did not improve from 0.05966\n",
      "Epoch 4/15\n",
      "32/32 [==============================] - 21s 671ms/step - loss: 0.0411 - acc: 0.9951 - val_loss: 0.0644 - val_acc: 0.9795\n",
      "\n",
      "Epoch 00004: val_loss did not improve from 0.05966\n",
      "Epoch 5/15\n",
      "32/32 [==============================] - 22s 674ms/step - loss: 0.0382 - acc: 0.9961 - val_loss: 0.0626 - val_acc: 0.9805\n",
      "\n",
      "Epoch 00005: val_loss did not improve from 0.05966\n",
      "Epoch 6/15\n",
      "32/32 [==============================] - 22s 677ms/step - loss: 0.0440 - acc: 0.9922 - val_loss: 0.0624 - val_acc: 0.9795\n",
      "\n",
      "Epoch 00006: val_loss did not improve from 0.05966\n",
      "Epoch 7/15\n",
      "32/32 [==============================] - 22s 685ms/step - loss: 0.0371 - acc: 0.9971 - val_loss: 0.0621 - val_acc: 0.9795\n",
      "\n",
      "Epoch 00007: val_loss did not improve from 0.05966\n",
      "Epoch 8/15\n",
      "32/32 [==============================] - 22s 675ms/step - loss: 0.0432 - acc: 0.9961 - val_loss: 0.0634 - val_acc: 0.9795\n",
      "\n",
      "Epoch 00008: val_loss did not improve from 0.05966\n",
      "Epoch 9/15\n",
      "32/32 [==============================] - 22s 673ms/step - loss: 0.0438 - acc: 0.9922 - val_loss: 0.0638 - val_acc: 0.9795\n",
      "\n",
      "Epoch 00009: val_loss did not improve from 0.05966\n",
      "Epoch 10/15\n",
      "32/32 [==============================] - 21s 671ms/step - loss: 0.0306 - acc: 0.9971 - val_loss: 0.0654 - val_acc: 0.9795\n",
      "\n",
      "Epoch 00010: val_loss did not improve from 0.05966\n",
      "Epoch 11/15\n",
      "32/32 [==============================] - 21s 671ms/step - loss: 0.0325 - acc: 0.9971 - val_loss: 0.0649 - val_acc: 0.9785\n",
      "\n",
      "Epoch 00011: val_loss did not improve from 0.05966\n",
      "Epoch 12/15\n",
      "32/32 [==============================] - 22s 680ms/step - loss: 0.0371 - acc: 0.9941 - val_loss: 0.0599 - val_acc: 0.9814\n",
      "\n",
      "Epoch 00012: val_loss did not improve from 0.05966\n",
      "Epoch 13/15\n",
      "32/32 [==============================] - 21s 672ms/step - loss: 0.0338 - acc: 0.9990 - val_loss: 0.0583 - val_acc: 0.9834\n",
      "\n",
      "Epoch 00013: val_loss improved from 0.05966 to 0.05828, saving model to model.h5\n",
      "Epoch 14/15\n",
      "32/32 [==============================] - 22s 675ms/step - loss: 0.0339 - acc: 0.9961 - val_loss: 0.0557 - val_acc: 0.9824\n",
      "\n",
      "Epoch 00014: val_loss improved from 0.05828 to 0.05565, saving model to model.h5\n",
      "Epoch 15/15\n",
      "32/32 [==============================] - 22s 695ms/step - loss: 0.0418 - acc: 0.9922 - val_loss: 0.0581 - val_acc: 0.9834\n",
      "\n",
      "Epoch 00015: val_loss did not improve from 0.05565\n"
     ]
    }
   ],
   "source": [
    "epochs = 15\n",
    "\n",
    "print('BATCH_SIZE: {} EPOCHS: {}'.format(batch_size, epochs))\n",
    "print(f'train {train_steps} steps')\n",
    "print(f'valid {valid_steps} steps')\n",
    "print(f'test {test_steps} steps')\n",
    "\n",
    "file_path='model.h5'\n",
    "checkpoint = ModelCheckpoint(\n",
    "    file_path, monitor='val_loss', verbose=1, \n",
    "    save_best_only=True, \n",
    "    save_weights_only=True,\n",
    "    mode='min'\n",
    ")\n",
    "early = EarlyStopping(monitor='val_loss', mode='min', patience=30)\n",
    "callbacks_list = [checkpoint, early]\n",
    "\n",
    "K.set_value(model.optimizer.lr, 0.00001)\n",
    "K.set_value(model.optimizer.decay, 1e-9)\n",
    "\n",
    "gc.collect();\n",
    "history = model.fit_generator(\n",
    "    train_flow, \n",
    "    steps_per_epoch=train_steps,\n",
    "    validation_data=valid_flow,\n",
    "    validation_steps=valid_steps,\n",
    "    epochs=epochs, \n",
    "    verbose=1,\n",
    "    callbacks=callbacks_list\n",
    ")"
   ]
  },
  {
   "cell_type": "code",
   "execution_count": 21,
   "metadata": {
    "_uuid": "c8f8c45fe33f36288448c1fd48b38014380cfe38"
   },
   "outputs": [
    {
     "data": {
      "image/png": "[encoded data removed]",
      "text/plain": [
       "<Figure size 1296x288 with 1 Axes>"
      ]
     },
     "metadata": {
      "needs_background": "light"
     },
     "output_type": "display_data"
    },
    {
     "data": {
      "image/png": "[encoded data removed]",
      "text/plain": [
       "<Figure size 1296x288 with 1 Axes>"
      ]
     },
     "metadata": {
      "needs_background": "light"
     },
     "output_type": "display_data"
    }
   ],
   "source": [
    "eval_res = pd.DataFrame(history.history)\n",
    "eval_res.to_csv('eval_res_finetune.csv', index=False)\n",
    "for c in ['acc', 'loss']:\n",
    "    eval_res[[c, f'val_{c}']].plot(figsize=[18, 4]);\n",
    "    plt.xlabel('Epoch'); plt.ylabel(c);\n",
    "    plt.title(c); plt.grid();"
   ]
  },
  {
   "cell_type": "code",
   "execution_count": 22,
   "metadata": {
    "_uuid": "de6df74b98ff1a0ff8a36ff88a28d87ebbbaadae"
   },
   "outputs": [],
   "source": [
    "model.load_weights('model.h5')"
   ]
  },
  {
   "cell_type": "code",
   "execution_count": 23,
   "metadata": {
    "_uuid": "df1fc9ea912b7e9212eddf66ba63d954f049211d"
   },
   "outputs": [
    {
     "name": "stdout",
     "output_type": "stream",
     "text": [
      "8/8 [==============================] - 10s 1s/step\n"
     ]
    }
   ],
   "source": [
    "# final_state_model = Model(model.inputs, model.get_layer('final_state').output)\n",
    "# valid_state = final_state_model.predict_generator(valid_flow, steps=valid_steps, verbose=1)\n",
    "pred_val = model.predict_generator(valid_flow, steps=valid_steps, verbose=1)"
   ]
  },
  {
   "cell_type": "code",
   "execution_count": 24,
   "metadata": {
    "_uuid": "d37dc22f9ba554f3fd68c30061071f21b719cb17"
   },
   "outputs": [
    {
     "data": {
      "text/plain": [
       "((1024, 1), (1024,))"
      ]
     },
     "execution_count": 24,
     "metadata": {},
     "output_type": "execute_result"
    }
   ],
   "source": [
    "pred_val.shape, valid_flow.classes.shape"
   ]
  },
  {
   "cell_type": "code",
   "execution_count": 25,
   "metadata": {
    "_uuid": "420b1b8050c3195f672c27e600f0dd39ae5930c9"
   },
   "outputs": [],
   "source": [
    "pred_val = pred_val.ravel()\n",
    "y_valid =  valid_flow.classes.copy()"
   ]
  },
  {
   "cell_type": "code",
   "execution_count": 26,
   "metadata": {
    "_uuid": "46f02cd74515656fe5c0e5fc93e076c71d0a27a1"
   },
   "outputs": [
    {
     "name": "stdout",
     "output_type": "stream",
     "text": [
      "valid loss: 2.334053585541753\t valid accuracy: 0.51171875\n"
     ]
    }
   ],
   "source": [
    "from sklearn.metrics import log_loss, accuracy_score\n",
    "val_loss = log_loss(y_valid, pred_val)\n",
    "val_acc = accuracy_score(y_valid, np.round(pred_val))\n",
    "print(f'valid loss: {val_loss}\\t valid accuracy: {val_acc}')"
   ]
  },
  {
   "cell_type": "code",
   "execution_count": 27,
   "metadata": {
    "_uuid": "2b7d7134eb16a4dc822587ee3488f918638eab23"
   },
   "outputs": [
    {
     "name": "stdout",
     "output_type": "stream",
     "text": [
      "98/98 [==============================] - 118s 1s/step\n"
     ]
    }
   ],
   "source": [
    "pred_test = model.predict_generator(test_flow, steps=test_steps, verbose=1)\n",
    "pred_test = pred_test.ravel()"
   ]
  },
  {
   "cell_type": "code",
   "execution_count": 28,
   "metadata": {
    "_uuid": "960893bdef553227d9bd8b7b26a753d33d0d1575"
   },
   "outputs": [],
   "source": [
    "np.save('valid_pred.npy', pred_val)\n",
    "np.save('test_pred.npy', pred_test)"
   ]
  },
  {
   "cell_type": "code",
   "execution_count": 29,
   "metadata": {
    "_uuid": "afa954364b87ccf86b16ecee05f62ce3ed97ced4"
   },
   "outputs": [
    {
     "data": {
      "text/plain": [
       "(12500,)"
      ]
     },
     "execution_count": 29,
     "metadata": {},
     "output_type": "execute_result"
    }
   ],
   "source": [
    "evals.loc[evals['is_test']==1, 'img_id'].shape"
   ]
  },
  {
   "cell_type": "code",
   "execution_count": 30,
   "metadata": {
    "_uuid": "ad1dfbfd1b90687c265de84e602224e633878a5a"
   },
   "outputs": [
    {
     "data": {
      "text/html": [
       "<div>\n",
       "<style scoped>\n",
       "    .dataframe tbody tr th:only-of-type {\n",
       "        vertical-align: middle;\n",
       "    }\n",
       "\n",
       "    .dataframe tbody tr th {\n",
       "        vertical-align: top;\n",
       "    }\n",
       "\n",
       "    .dataframe thead th {\n",
       "        text-align: right;\n",
       "    }\n",
       "</style>\n",
       "<table border=\"1\" class=\"dataframe\">\n",
       "  <thead>\n",
       "    <tr style=\"text-align: right;\">\n",
       "      <th></th>\n",
       "      <th>id</th>\n",
       "      <th>label</th>\n",
       "    </tr>\n",
       "  </thead>\n",
       "  <tbody>\n",
       "    <tr>\n",
       "      <th>0</th>\n",
       "      <td>1</td>\n",
       "      <td>0.993605</td>\n",
       "    </tr>\n",
       "    <tr>\n",
       "      <th>1</th>\n",
       "      <td>2</td>\n",
       "      <td>0.996169</td>\n",
       "    </tr>\n",
       "    <tr>\n",
       "      <th>2</th>\n",
       "      <td>3</td>\n",
       "      <td>0.990481</td>\n",
       "    </tr>\n",
       "    <tr>\n",
       "      <th>3</th>\n",
       "      <td>4</td>\n",
       "      <td>0.991602</td>\n",
       "    </tr>\n",
       "    <tr>\n",
       "      <th>4</th>\n",
       "      <td>5</td>\n",
       "      <td>0.015117</td>\n",
       "    </tr>\n",
       "  </tbody>\n",
       "</table>\n",
       "</div>"
      ],
      "text/plain": [
       "   id     label\n",
       "0   1  0.993605\n",
       "1   2  0.996169\n",
       "2   3  0.990481\n",
       "3   4  0.991602\n",
       "4   5  0.015117"
      ]
     },
     "execution_count": 30,
     "metadata": {},
     "output_type": "execute_result"
    }
   ],
   "source": [
    "mask = evals['is_test']==1\n",
    "sub = {\n",
    "    'id': evals.loc[mask, 'img_id'].values.astype('int'),\n",
    "    'label': pred_test,\n",
    "}\n",
    "sub = pd.DataFrame(sub).sort_values(by='id').reset_index(drop=True)\n",
    "sub['label'] = 1 - sub['label']\n",
    "sub.head()"
   ]
  },
  {
   "cell_type": "code",
   "execution_count": 31,
   "metadata": {
    "_uuid": "0accc6756777fce86cb3cdb70f5dd002d93bbb21"
   },
   "outputs": [
    {
     "name": "stdout",
     "output_type": "stream",
     "text": [
      "resnet50ft_2.334054.csv saved\n"
     ]
    }
   ],
   "source": [
    "subname = f'resnet50ft_{val_loss:.6f}.csv'\n",
    "sub.to_csv(subname, index=False)\n",
    "print(subname, 'saved')"
   ]
  },
  {
   "cell_type": "code",
   "execution_count": null,
   "metadata": {
    "_uuid": "214c919ea31b7393e70d41c1185bc1bc762f5861",
    "collapsed": true
   },
   "outputs": [],
   "source": []
  }
 ],
 "metadata": {
  "kernelspec": {
   "display_name": "Python 3",
   "language": "python",
   "name": "python3"
  },
  "language_info": {
   "codemirror_mode": {
    "name": "ipython",
    "version": 3
   },
   "file_extension": ".py",
   "mimetype": "text/x-python",
   "name": "python",
   "nbconvert_exporter": "python",
   "pygments_lexer": "ipython3",
   "version": "3.6.5"
  }
 },
 "nbformat": 4,
 "nbformat_minor": 1
}
